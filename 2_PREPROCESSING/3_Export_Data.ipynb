{
 "cells": [
  {
   "cell_type": "code",
   "execution_count": 4,
   "id": "ee5ee1b3",
   "metadata": {},
   "outputs": [],
   "source": [
    "import sys\n",
    "import os\n",
    "from one.api import ONE\n",
    "from pathlib import Path\n",
    "parent_dir = os.path.dirname(os.getcwd())\n",
    "if parent_dir not in sys.path:\n",
    "    sys.path.append(parent_dir)\n",
    "    \n",
    "import numpy as np\n",
    "import matplotlib.pyplot as plt    \n",
    "import seaborn as sns    \n",
    "from utils.load_meso_session import MesoscopeSession\n",
    "# Load the session data\n",
    "\n",
    "from activity_preprocessor import CalciumDataPreprocessor\n",
    "one = ONE()\n",
    "# SESSION_INDEX = 0\n",
    "# session = MesoscopeSession.from_csv(one, '../good_mesoscope_sessions_final.csv', SESSION_INDEX, True)\n"
   ]
  },
  {
   "cell_type": "code",
   "execution_count": 5,
   "id": "29949a44",
   "metadata": {},
   "outputs": [
    {
     "name": "stdout",
     "output_type": "stream",
     "text": [
      "================================================================================\n",
      "CALCIUM IMAGING PREPROCESSING PIPELINE\n",
      "================================================================================\n",
      "\n",
      "1. Loading ΔF/F data...\n",
      "   Raw ΔF/F shape: (19081, 7673)\n",
      "   Raw ΔF/F range: -2277.8 to 11374.2\n",
      "\n",
      "2. Filtering neurons...\n",
      "   Kept 6903 neurons out of 7673\n",
      "   Filtered data range: -374.2 to 2721.4\n",
      "\n",
      "3. Applying robust normalization...\n",
      "   Normalized range: 0.000 to 1.000\n",
      "   Normalized mean: 0.323, std: 0.186\n",
      "\n",
      "4. Applying temporal smoothing...\n",
      "\n",
      "5. Quality assessment...\n",
      "\n",
      "6. Saving processed data to ../DATA/processed_data/session_0.h5\n",
      "   Saved (19081, 6903) processed data matrix\n",
      "   File size: 439.63 MB\n"
     ]
    }
   ],
   "source": [
    "preprocessor = CalciumDataPreprocessor(neucoeff=0.7, temporal_smoothing=True)\n",
    "\n",
    "session = MesoscopeSession.from_csv(one, '../good_mesoscope_sessions_final.csv', 0, True)\n",
    "results = preprocessor.preprocess_session(session, '../DATA/processed_data/session_0.h5')\n",
    "    "
   ]
  }
 ],
 "metadata": {
  "kernelspec": {
   "display_name": "Python-3.10.14",
   "language": "python",
   "name": "python3"
  },
  "language_info": {
   "codemirror_mode": {
    "name": "ipython",
    "version": 3
   },
   "file_extension": ".py",
   "mimetype": "text/x-python",
   "name": "python",
   "nbconvert_exporter": "python",
   "pygments_lexer": "ipython3",
   "version": "3.10.14"
  }
 },
 "nbformat": 4,
 "nbformat_minor": 5
}
