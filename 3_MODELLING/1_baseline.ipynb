{
 "cells": [
  {
   "cell_type": "code",
   "execution_count": 1,
   "id": "8246e696",
   "metadata": {},
   "outputs": [
    {
     "name": "stdout",
     "output_type": "stream",
     "text": [
      "STEP 1: Loading and preparing data...\n"
     ]
    },
    {
     "name": "stderr",
     "output_type": "stream",
     "text": [
      "(S3) C:\\Users\\Gugu\\Downloads\\ONE\\alyx.internationalbrainlab.org\\cortexlab\\Subjects\\SP066\\2025-04-09\\002\\alf\\FOV_00\\mpci.ROIActivityF.npy: 100%|██████████| 231M/231M [00:26<00:00, 8.62MB/s] \n",
      "(S3) C:\\Users\\Gugu\\Downloads\\ONE\\alyx.internationalbrainlab.org\\cortexlab\\Subjects\\SP066\\2025-04-09\\002\\alf\\FOV_01\\mpci.ROIActivityF.npy: 100%|██████████| 265M/265M [00:29<00:00, 8.88MB/s] \n",
      "(S3) C:\\Users\\Gugu\\Downloads\\ONE\\alyx.internationalbrainlab.org\\cortexlab\\Subjects\\SP066\\2025-04-09\\002\\alf\\FOV_02\\mpci.ROIActivityF.npy: 100%|██████████| 343M/343M [00:36<00:00, 9.40MB/s] \n",
      "(S3) C:\\Users\\Gugu\\Downloads\\ONE\\alyx.internationalbrainlab.org\\cortexlab\\Subjects\\SP066\\2025-04-09\\002\\alf\\FOV_03\\mpci.ROIActivityF.npy: 100%|██████████| 165M/165M [00:16<00:00, 10.3MB/s] \n",
      "(S3) C:\\Users\\Gugu\\Downloads\\ONE\\alyx.internationalbrainlab.org\\cortexlab\\Subjects\\SP066\\2025-04-09\\002\\alf\\FOV_04\\mpci.ROIActivityF.npy: 100%|██████████| 235M/235M [00:25<00:00, 9.34MB/s] \n",
      "(S3) C:\\Users\\Gugu\\Downloads\\ONE\\alyx.internationalbrainlab.org\\cortexlab\\Subjects\\SP066\\2025-04-09\\002\\alf\\FOV_05\\mpci.ROIActivityF.npy: 100%|██████████| 135M/135M [00:19<00:00, 7.07MB/s] \n",
      "(S3) C:\\Users\\Gugu\\Downloads\\ONE\\alyx.internationalbrainlab.org\\cortexlab\\Subjects\\SP066\\2025-04-09\\002\\alf\\FOV_06\\mpci.ROIActivityF.npy: 100%|██████████| 307M/307M [00:34<00:00, 8.85MB/s] \n",
      "(S3) C:\\Users\\Gugu\\Downloads\\ONE\\alyx.internationalbrainlab.org\\cortexlab\\Subjects\\SP066\\2025-04-09\\002\\alf\\FOV_07\\mpci.ROIActivityF.npy: 100%|██████████| 289M/289M [00:32<00:00, 8.95MB/s] \n"
     ]
    },
    {
     "name": "stdout",
     "output_type": "stream",
     "text": [
      "Successfully loaded data. Activity matrix shape: (19081, 7673)\n",
      "Normalization complete.\n",
      "\n",
      "STEP 2: Applying the 1-step autoregressive model...\n",
      "Baseline created. Comparing 19080 time steps.\n",
      "\n",
      "STEP 3: Calculating baseline performance metrics...\n",
      "\n",
      "--- Overall Baseline Performance (All Neurons, All Time) ---\n",
      "  Mean Squared Error (MSE): 0.835180\n",
      "  Mean Absolute Error (MAE): 0.688976\n"
     ]
    },
    {
     "name": "stderr",
     "output_type": "stream",
     "text": [
      "C:\\Users\\Gugu\\AppData\\Local\\Temp\\ipykernel_248420\\4008306189.py:78: ConstantInputWarning: An input array is constant; the correlation coefficient is not defined.\n",
      "  corr, _ = pearsonr(ground_truth[:, i], predictions[:, i])\n"
     ]
    },
    {
     "name": "stdout",
     "output_type": "stream",
     "text": [
      "\n",
      "--- Per-Neuron Baseline Correlation ---\n",
      "  Mean Correlation across all 7673 neurons: 0.582\n",
      "  Median Correlation: 0.571\n",
      "  Std. Dev. of Correlation: 0.161\n",
      "\n",
      "STEP 4: Evaluating for a 2-second future window (like the Transformer)...\n"
     ]
    },
    {
     "ename": "KeyboardInterrupt",
     "evalue": "",
     "output_type": "error",
     "traceback": [
      "\u001b[31m---------------------------------------------------------------------------\u001b[39m",
      "\u001b[31mKeyboardInterrupt\u001b[39m                         Traceback (most recent call last)",
      "\u001b[36mCell\u001b[39m\u001b[36m \u001b[39m\u001b[32mIn[1]\u001b[39m\u001b[32m, line 110\u001b[39m\n\u001b[32m    107\u001b[39m     future_predictions_baseline[i, :, :] = last_known_value\n\u001b[32m    109\u001b[39m     \u001b[38;5;66;03m# The actual future values\u001b[39;00m\n\u001b[32m--> \u001b[39m\u001b[32m110\u001b[39m     future_ground_truth[i, :, :] = activity_matrix_normalized[i+\u001b[32m1\u001b[39m : i+\u001b[32m1\u001b[39m+prediction_length]\n\u001b[32m    112\u001b[39m \u001b[38;5;66;03m# --- Calculate metrics for this multi-step forecast ---\u001b[39;00m\n\u001b[32m    113\u001b[39m gt_tensor_multi = torch.from_numpy(future_ground_truth)\n",
      "\u001b[31mKeyboardInterrupt\u001b[39m: "
     ]
    }
   ],
   "source": [
    "import numpy as np\n",
    "import pandas as pd\n",
    "from scipy.stats import pearsonr\n",
    "import torch.nn.functional as F\n",
    "import torch\n",
    "import sys\n",
    "import os\n",
    "\n",
    "# ===================================================================\n",
    "# Step 1: Data Loading and Preparation\n",
    "# ===================================================================\n",
    "print(\"STEP 1: Loading and preparing data...\")\n",
    "\n",
    "# --- Ensure custom utils are in the path ---\n",
    "parent_dir = os.path.dirname(os.getcwd())\n",
    "if parent_dir not in sys.path:\n",
    "    sys.path.append(parent_dir)\n",
    "from utils.load_meso_session import MesoscopeSession\n",
    "from one.api import ONE\n",
    "\n",
    "# --- Load the real session data ---\n",
    "one = ONE()\n",
    "SESSION_INDEX = 0\n",
    "session = MesoscopeSession.from_csv(one, '../good_mesoscope_sessions_final.csv', SESSION_INDEX, True)\n",
    "activity_matrix, timestamps = session.get_activity_matrix()\n",
    "print(f\"Successfully loaded data. Activity matrix shape: {activity_matrix.shape}\")\n",
    "\n",
    "\n",
    "# --- Perform the same Z-score normalization as the Transformer model ---\n",
    "mean_vals = np.mean(activity_matrix, axis=0)\n",
    "std_vals = np.std(activity_matrix, axis=0)\n",
    "epsilon = 1e-8\n",
    "std_vals[std_vals < epsilon] = epsilon\n",
    "activity_matrix_normalized = (activity_matrix - mean_vals) / std_vals\n",
    "print(\"Normalization complete.\")\n",
    "\n",
    "\n",
    "# ===================================================================\n",
    "# Step 2: Implement the 1-Step Autoregressive Baseline\n",
    "# ===================================================================\n",
    "print(\"\\nSTEP 2: Applying the 1-step autoregressive model...\")\n",
    "\n",
    "# The prediction for time `t+1` is simply the value at time `t`.\n",
    "# This is also known as a \"persistence\" or \"naive\" forecast.\n",
    "\n",
    "# Our \"predictions\" are the entire time series, shifted by one step.\n",
    "# We exclude the last time point because it has no future.\n",
    "predictions = activity_matrix_normalized[:-1]\n",
    "\n",
    "# The \"ground truth\" is the entire time series, starting from the second step.\n",
    "ground_truth = activity_matrix_normalized[1:]\n",
    "\n",
    "print(f\"Baseline created. Comparing {len(predictions)} time steps.\")\n",
    "\n",
    "\n",
    "# ===================================================================\n",
    "# Step 3: Calculate Performance Metrics\n",
    "# ===================================================================\n",
    "print(\"\\nSTEP 3: Calculating baseline performance metrics...\")\n",
    "\n",
    "# --- A. Overall Performance (All Neurons, All Time) ---\n",
    "# Convert to tensors for easy calculation with torch.nn.functional\n",
    "gt_tensor = torch.from_numpy(ground_truth)\n",
    "fc_tensor = torch.from_numpy(predictions)\n",
    "\n",
    "overall_mse = F.mse_loss(fc_tensor, gt_tensor).item()\n",
    "overall_mae = F.l1_loss(fc_tensor, gt_tensor).item()\n",
    "\n",
    "print(\"\\n--- Overall Baseline Performance (All Neurons, All Time) ---\")\n",
    "print(f\"  Mean Squared Error (MSE): {overall_mse:.6f}\")\n",
    "print(f\"  Mean Absolute Error (MAE): {overall_mae:.6f}\")\n",
    "\n",
    "# --- B. Per-Neuron Correlation ---\n",
    "# How well does each neuron's activity at t+1 correlate with its activity at t?\n",
    "correlations = []\n",
    "for i in range(activity_matrix_normalized.shape[1]):\n",
    "    # Use pearsonr; it returns (correlation, p-value)\n",
    "    corr, _ = pearsonr(ground_truth[:, i], predictions[:, i])\n",
    "    correlations.append(corr)\n",
    "correlations = np.nan_to_num(correlations) # Replace NaNs (from flat lines) with 0\n",
    "\n",
    "print(f\"\\n--- Per-Neuron Baseline Correlation ---\")\n",
    "print(f\"  Mean Correlation across all {activity_matrix_normalized.shape[1]} neurons: {np.mean(correlations):.3f}\")\n",
    "print(f\"  Median Correlation: {np.median(correlations):.3f}\")\n",
    "print(f\"  Std. Dev. of Correlation: {np.std(correlations):.3f}\")\n",
    "\n",
    "\n",
    "# ===================================================================\n",
    "# Step 4 (Optional): Extending to a 2-Second Future Window\n",
    "# ===================================================================\n",
    "print(\"\\nSTEP 4: Evaluating for a 2-second future window (like the Transformer)...\")\n",
    "\n",
    "# --- Let's match the Transformer's prediction_length ---\n",
    "# Assuming ~4.9 Hz, a 2-second prediction is about 10 steps\n",
    "prediction_length = int(2 * 4.9)\n",
    "\n",
    "# The baseline \"forecast\" for the next 10 steps is just the value at time `t`\n",
    "# repeated 10 times.\n",
    "num_windows = len(activity_matrix_normalized) - prediction_length\n",
    "# Shape: (num_windows, prediction_length, num_neurons)\n",
    "future_predictions_baseline = np.zeros((num_windows, prediction_length, activity_matrix_normalized.shape[1]))\n",
    "future_ground_truth = np.zeros_like(future_predictions_baseline)\n",
    "\n",
    "for i in range(num_windows):\n",
    "    # The prediction for all future steps is the value at time `i`\n",
    "    last_known_value = activity_matrix_normalized[i]\n",
    "    future_predictions_baseline[i, :, :] = last_known_value\n",
    "    \n",
    "    # The actual future values\n",
    "    future_ground_truth[i, :, :] = activity_matrix_normalized[i+1 : i+1+prediction_length]\n",
    "\n",
    "# --- Calculate metrics for this multi-step forecast ---\n",
    "gt_tensor_multi = torch.from_numpy(future_ground_truth)\n",
    "fc_tensor_multi = torch.from_numpy(future_predictions_baseline)\n",
    "\n",
    "multistep_mse = F.mse_loss(fc_tensor_multi, gt_tensor_multi).item()\n",
    "multistep_mae = F.l1_loss(fc_tensor_multi, gt_tensor_multi).item()\n",
    "\n",
    "print(\"\\n--- Baseline Performance for 2-Second Forecast Window ---\")\n",
    "print(f\"  Multi-step MSE: {multistep_mse:.6f}\")\n",
    "print(f\"  Multi-step MAE: {multistep_mae:.6f}\")"
   ]
  },
  {
   "cell_type": "code",
   "execution_count": 3,
   "id": "90e3368e",
   "metadata": {},
   "outputs": [
    {
     "ename": "NameError",
     "evalue": "name 'future_predictions_baseline' is not defined",
     "output_type": "error",
     "traceback": [
      "\u001b[0;31m---------------------------------------------------------------------------\u001b[0m",
      "\u001b[0;31mNameError\u001b[0m                                 Traceback (most recent call last)",
      "Cell \u001b[0;32mIn[3], line 1\u001b[0m\n\u001b[0;32m----> 1\u001b[0m \u001b[43mfuture_predictions_baseline\u001b[49m[\u001b[38;5;241m0\u001b[39m,\u001b[38;5;241m0\u001b[39m,:]\n",
      "\u001b[0;31mNameError\u001b[0m: name 'future_predictions_baseline' is not defined"
     ]
    }
   ],
   "source": [
    "future_predictions_baseline[0,0,:]"
   ]
  }
 ],
 "metadata": {
  "kernelspec": {
   "display_name": "Python 3",
   "language": "python",
   "name": "python3"
  },
  "language_info": {
   "codemirror_mode": {
    "name": "ipython",
    "version": 3
   },
   "file_extension": ".py",
   "mimetype": "text/x-python",
   "name": "python",
   "nbconvert_exporter": "python",
   "pygments_lexer": "ipython3",
   "version": "3.10.14"
  }
 },
 "nbformat": 4,
 "nbformat_minor": 5
}
