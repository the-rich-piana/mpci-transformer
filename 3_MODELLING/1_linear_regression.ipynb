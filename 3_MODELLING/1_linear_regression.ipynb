{
 "cells": [
  {
   "cell_type": "code",
   "execution_count": 2,
   "id": "0722542b",
   "metadata": {},
   "outputs": [
    {
     "ename": "ModuleNotFoundError",
     "evalue": "No module named 'utils'",
     "output_type": "error",
     "traceback": [
      "\u001b[31m---------------------------------------------------------------------------\u001b[39m",
      "\u001b[31mModuleNotFoundError\u001b[39m                       Traceback (most recent call last)",
      "\u001b[36mCell\u001b[39m\u001b[36m \u001b[39m\u001b[32mIn[2]\u001b[39m\u001b[32m, line 8\u001b[39m\n\u001b[32m      5\u001b[39m \u001b[38;5;28;01mfrom\u001b[39;00m\u001b[38;5;250m \u001b[39m\u001b[34;01mone\u001b[39;00m\u001b[34;01m.\u001b[39;00m\u001b[34;01mapi\u001b[39;00m\u001b[38;5;250m \u001b[39m\u001b[38;5;28;01mimport\u001b[39;00m ONE\n\u001b[32m      6\u001b[39m \u001b[38;5;28;01mimport\u001b[39;00m\u001b[38;5;250m \u001b[39m\u001b[34;01mmatplotlib\u001b[39;00m\u001b[34;01m.\u001b[39;00m\u001b[34;01mpyplot\u001b[39;00m\u001b[38;5;250m \u001b[39m\u001b[38;5;28;01mas\u001b[39;00m\u001b[38;5;250m \u001b[39m\u001b[34;01mplt\u001b[39;00m\n\u001b[32m----> \u001b[39m\u001b[32m8\u001b[39m \u001b[38;5;28;01mfrom\u001b[39;00m\u001b[38;5;250m \u001b[39m\u001b[34;01mutils\u001b[39;00m\u001b[34;01m.\u001b[39;00m\u001b[34;01mload_meso_session\u001b[39;00m\u001b[38;5;250m \u001b[39m\u001b[38;5;28;01mimport\u001b[39;00m MesoscopeSession\n\u001b[32m     10\u001b[39m one = ONE()\n\u001b[32m     12\u001b[39m \u001b[38;5;66;03m# Load your session\u001b[39;00m\n",
      "\u001b[31mModuleNotFoundError\u001b[39m: No module named 'utils'"
     ]
    }
   ],
   "source": [
    "from sklearn.linear_model import LinearRegression\n",
    "from sklearn.model_selection import train_test_split\n",
    "from sklearn.metrics import r2_score, mean_squared_error\n",
    "import numpy as np\n",
    "from one.api import ONE\n",
    "import matplotlib.pyplot as plt\n",
    "\n",
    "from utils.load_meso_session import MesoscopeSession\n",
    "\n",
    "one = ONE()\n",
    "\n",
    "# Load your session\n",
    "session = MesoscopeSession.from_csv(one, '../good_mesoscope_sessions_final.csv', 0)\n",
    "\n",
    "# Get the activity matrix as numpy arrays\n",
    "activity_matrix, timestamps = session.get_activity_matrix()\n",
    "print(f\"Activity matrix shape: {activity_matrix.shape}\")  # [time_points, neurons]\n",
    "print(f\"Timestamps shape: {timestamps.shape}\")"
   ]
  },
  {
   "cell_type": "code",
   "execution_count": null,
   "id": "50911f7a",
   "metadata": {},
   "outputs": [
    {
     "name": "stdout",
     "output_type": "stream",
     "text": [
      "Activity matrix shape: (19081, 7673)\n",
      "Training data: (10000, 7673) -> (10000, 7673)\n",
      "Test data: (1, 7673) -> (1, 7673)\n",
      "Predicting timestamp 10001 from timestamp 10000\n",
      "\n",
      "Results:\n",
      "R² score: -2.2382\n",
      "MSE: 37551.710938\n",
      "Predicted 7673 neurons simultaneously\n"
     ]
    }
   ],
   "source": [
    "print(f\"Activity matrix shape: {activity_matrix.shape}\")  # [time_points, neurons]\n",
    "\n",
    "# Create training data: predict time t+1 from time t\n",
    "X = activity_matrix[:-1, :]  # All neurons at time t (timestamps 0 to n-2)\n",
    "y = activity_matrix[1:, :]   # All neurons at time t+1 (timestamps 1 to n-1)\n",
    "\n",
    "# Use first 1000 time points for training\n",
    "n_train = min(10000, X.shape[0])\n",
    "X_train = X[:n_train, :]     # [1000, n_neurons]\n",
    "y_train = y[:n_train, :]     # [1000, n_neurons]\n",
    "\n",
    "# Test on timestamp 1001 (predict from timestamp 1000)\n",
    "X_test = X[n_train:n_train+1, :]  # [1, n_neurons] - activity at timestamp 1000\n",
    "y_test = y[n_train:n_train+1, :]  # [1, n_neurons] - actual activity at timestamp 1001\n",
    "\n",
    "print(f\"Training data: {X_train.shape} -> {y_train.shape}\")\n",
    "print(f\"Test data: {X_test.shape} -> {y_test.shape}\")\n",
    "print(f\"Predicting timestamp {n_train+1} from timestamp {n_train}\")\n",
    "\n",
    "# Fit ONE linear regression model\n",
    "model = LinearRegression()\n",
    "model.fit(X_train, y_train)\n",
    "\n",
    "# Predict all neurons at timestamp 1001\n",
    "y_pred = model.predict(X_test)  # [1, n_neurons]\n",
    "\n",
    "# Calculate metrics\n",
    "r2 = r2_score(y_test.flatten(), y_pred.flatten())\n",
    "mse = mean_squared_error(y_test.flatten(), y_pred.flatten())\n",
    "\n",
    "print(f\"\\nResults:\")\n",
    "print(f\"R² score: {r2:.4f}\")\n",
    "print(f\"MSE: {mse:.6f}\")\n",
    "print(f\"Predicted {y_pred.shape[1]} neurons simultaneously\")"
   ]
  },
  {
   "cell_type": "code",
   "execution_count": null,
   "id": "1d06dadf",
   "metadata": {},
   "outputs": [
    {
     "ename": "NameError",
     "evalue": "name 'y_pred' is not defined",
     "output_type": "error",
     "traceback": [
      "\u001b[31m---------------------------------------------------------------------------\u001b[39m",
      "\u001b[31mNameError\u001b[39m                                 Traceback (most recent call last)",
      "\u001b[36mCell\u001b[39m\u001b[36m \u001b[39m\u001b[32mIn[1]\u001b[39m\u001b[32m, line 1\u001b[39m\n\u001b[32m----> \u001b[39m\u001b[32m1\u001b[39m \u001b[43my_pred\u001b[49m\n",
      "\u001b[31mNameError\u001b[39m: name 'y_pred' is not defined"
     ]
    }
   ],
   "source": [
    "y_pred"
   ]
  },
  {
   "cell_type": "code",
   "execution_count": null,
   "id": "02b8d390",
   "metadata": {},
   "outputs": [
    {
     "name": "stdout",
     "output_type": "stream",
     "text": [
      "Predicting 50 neurons: R² = -19.2017\n"
     ]
    }
   ],
   "source": [
    "# Just predict a manageable number of neurons (e.g., 50-100)\n",
    "n_target_neurons = 50\n",
    "target_neurons = range(n_target_neurons)\n",
    "\n",
    "X_train = activity_matrix[:1000, :]  # All neurons as features\n",
    "y_train = activity_matrix[1:1001, target_neurons]  # Only predict subset\n",
    "\n",
    "X_test = activity_matrix[1000:1001, :]  # All neurons at timestamp 1000\n",
    "y_test = activity_matrix[1001:1002, target_neurons]  # Subset at timestamp 1001\n",
    "\n",
    "model = LinearRegression()\n",
    "model.fit(X_train, y_train)\n",
    "y_pred = model.predict(X_test)\n",
    "\n",
    "r2 = r2_score(y_test.flatten(), y_pred.flatten())\n",
    "print(f\"Predicting {n_target_neurons} neurons: R² = {r2:.4f}\")"
   ]
  },
  {
   "cell_type": "code",
   "execution_count": null,
   "id": "5a602293",
   "metadata": {},
   "outputs": [
    {
     "name": "stdout",
     "output_type": "stream",
     "text": [
      "Predicting neuron 0: Actual = 0.0000, Predicted = 139.7676\n"
     ]
    }
   ],
   "source": [
    "# Pick one interesting neuron and do it properly\n",
    "target_neuron = 0\n",
    "\n",
    "X_train = activity_matrix[:1000, :]  # All neurons as features\n",
    "y_train = activity_matrix[1:1001, target_neuron]  # Single neuron target\n",
    "\n",
    "X_test = activity_matrix[1000:1001, :]\n",
    "y_test = activity_matrix[1001:1002, target_neuron]\n",
    "\n",
    "model = LinearRegression()\n",
    "model.fit(X_train, y_train)\n",
    "y_pred = model.predict(X_test)\n",
    "\n",
    "print(f\"Predicting neuron {target_neuron}: Actual = {y_test[0]:.4f}, Predicted = {y_pred[0]:.4f}\")"
   ]
  }
 ],
 "metadata": {
  "kernelspec": {
   "display_name": "ibl_env",
   "language": "python",
   "name": "python3"
  },
  "language_info": {
   "codemirror_mode": {
    "name": "ipython",
    "version": 3
   },
   "file_extension": ".py",
   "mimetype": "text/x-python",
   "name": "python",
   "nbconvert_exporter": "python",
   "pygments_lexer": "ipython3",
   "version": "3.11.4"
  }
 },
 "nbformat": 4,
 "nbformat_minor": 5
}
