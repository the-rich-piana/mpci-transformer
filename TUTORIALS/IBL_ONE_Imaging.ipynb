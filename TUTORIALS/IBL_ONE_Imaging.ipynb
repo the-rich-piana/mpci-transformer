{
 "cells": [
  {
   "cell_type": "code",
   "execution_count": 62,
   "id": "cd35ca5c",
   "metadata": {},
   "outputs": [
    {
     "data": {
      "text/plain": [
       "319"
      ]
     },
     "execution_count": 62,
     "metadata": {},
     "output_type": "execute_result"
    }
   ],
   "source": [
    "from one.api import ONE\n",
    "one = ONE()\n",
    "assert not one.offline, 'ONE must be connect to Alyx for searching imaging sessions'\n",
    "from datetime import datetime\n",
    "\n",
    "import numpy as np\n",
    "query = 'field_of_view__imaging_type__name,mesoscope'\n",
    "eids = one.search(procedures='Imaging', django=query, query_type='remote')\n",
    "\n",
    "len(eids)"
   ]
  },
  {
   "cell_type": "code",
   "execution_count": 83,
   "id": "2ca8d0ec",
   "metadata": {},
   "outputs": [
    {
     "name": "stdout",
     "output_type": "stream",
     "text": [
      "61f260e7-b5d3-4865-a577-bcfc53fda8a8\n",
      "2025-04-09T12:10:56.318000, 2025-04-09T13:16:00.121000\n",
      "Session duration: 1.08 hours\n"
     ]
    }
   ],
   "source": [
    "\n",
    "\n",
    "det = one.get_details(eids[0], full=True)\n",
    "print(eids[0])\n",
    "# det\n",
    "# det.keys()\n",
    "session_start = det.get('start_time')\n",
    "session_end = det.get('end_time')\n",
    "print(f\"{session_start}, {session_end}\")\n",
    "start_dt = datetime.fromisoformat(session_start.replace('Z', '+00:00'))\n",
    "end_dt = datetime.fromisoformat(session_end.replace('Z', '+00:00'))\n",
    "\n",
    "duration_seconds = (end_dt - start_dt).total_seconds()\n",
    "duration_hours = duration_seconds / 3600\n",
    "\n",
    "if duration_hours < 1:\n",
    "    print(f\"Session duration: {duration_seconds:.0f} seconds\")\n",
    "print(f\"Session duration: {duration_hours:.2f} hours\")  \n",
    "# det['notes']"
   ]
  },
  {
   "cell_type": "code",
   "execution_count": 91,
   "id": "18fedceb",
   "metadata": {},
   "outputs": [
    {
     "name": "stdout",
     "output_type": "stream",
     "text": [
      "Number of mesoscope imaging sessions: 319\n"
     ]
    },
    {
     "ename": "TypeError",
     "evalue": "'<' not supported between instances of 'NoneType' and 'int'",
     "output_type": "error",
     "traceback": [
      "\u001b[31m---------------------------------------------------------------------------\u001b[39m",
      "\u001b[31mTypeError\u001b[39m                                 Traceback (most recent call last)",
      "\u001b[36mCell\u001b[39m\u001b[36m \u001b[39m\u001b[32mIn[91]\u001b[39m\u001b[32m, line 12\u001b[39m\n\u001b[32m      9\u001b[39m \u001b[38;5;66;03m# Define a limit to avoid processing all sessions\u001b[39;00m\n\u001b[32m     10\u001b[39m session_limit = \u001b[32m310\u001b[39m  \u001b[38;5;66;03m# Adjust as needed\u001b[39;00m\n\u001b[32m---> \u001b[39m\u001b[32m12\u001b[39m \u001b[38;5;28;01mfor\u001b[39;00m i, eid \u001b[38;5;129;01min\u001b[39;00m \u001b[38;5;28menumerate\u001b[39m(\u001b[43meids\u001b[49m\u001b[43m[\u001b[49m\u001b[43m:\u001b[49m\u001b[43msession_limit\u001b[49m\u001b[43m]\u001b[49m):\n\u001b[32m     13\u001b[39m     \u001b[38;5;28mprint\u001b[39m(\u001b[33mf\u001b[39m\u001b[33m\"\u001b[39m\u001b[38;5;130;01m\\n\u001b[39;00m\u001b[33mProcessing session \u001b[39m\u001b[38;5;132;01m{\u001b[39;00mi+\u001b[32m1\u001b[39m\u001b[38;5;132;01m}\u001b[39;00m\u001b[33m/\u001b[39m\u001b[38;5;132;01m{\u001b[39;00msession_limit\u001b[38;5;132;01m}\u001b[39;00m\u001b[33m (ID: \u001b[39m\u001b[38;5;132;01m{\u001b[39;00meid\u001b[38;5;132;01m}\u001b[39;00m\u001b[33m)\u001b[39m\u001b[33m\"\u001b[39m)\n\u001b[32m     15\u001b[39m     \u001b[38;5;28;01mtry\u001b[39;00m:\n\u001b[32m     16\u001b[39m         \u001b[38;5;66;03m# Get session metadata\u001b[39;00m\n",
      "\u001b[36mFile \u001b[39m\u001b[32mc:\\Users\\Gugu\\Desktop\\UCL\\Thesis\\Experiments\\IBL_Neuropixels\\ibl_env\\Lib\\site-packages\\one\\util.py:497\u001b[39m, in \u001b[36mLazyId.__getitem__\u001b[39m\u001b[34m(self, item)\u001b[39m\n\u001b[32m    496\u001b[39m \u001b[38;5;28;01mdef\u001b[39;00m\u001b[38;5;250m \u001b[39m\u001b[34m__getitem__\u001b[39m(\u001b[38;5;28mself\u001b[39m, item):\n\u001b[32m--> \u001b[39m\u001b[32m497\u001b[39m     \u001b[38;5;28;01mreturn\u001b[39;00m \u001b[38;5;28mself\u001b[39m.func(\u001b[38;5;28;43mself\u001b[39;49m\u001b[43m.\u001b[49m\u001b[43m_pg\u001b[49m\u001b[43m.\u001b[49m\u001b[34;43m__getitem__\u001b[39;49m\u001b[43m(\u001b[49m\u001b[43mitem\u001b[49m\u001b[43m)\u001b[49m)\n",
      "\u001b[36mFile \u001b[39m\u001b[32mc:\\Users\\Gugu\\Desktop\\UCL\\Thesis\\Experiments\\IBL_Neuropixels\\ibl_env\\Lib\\site-packages\\one\\webclient.py:255\u001b[39m, in \u001b[36m_PaginatedResponse.__getitem__\u001b[39m\u001b[34m(self, item)\u001b[39m\n\u001b[32m    252\u001b[39m \u001b[38;5;28;01mif\u001b[39;00m \u001b[38;5;28misinstance\u001b[39m(item, \u001b[38;5;28mslice\u001b[39m):\n\u001b[32m    253\u001b[39m     \u001b[38;5;28;01mwhile\u001b[39;00m \u001b[38;5;28;01mNone\u001b[39;00m \u001b[38;5;129;01min\u001b[39;00m \u001b[38;5;28mself\u001b[39m._cache[item]:\n\u001b[32m    254\u001b[39m         \u001b[38;5;66;03m# If slice start index is -ve, convert to +ve index\u001b[39;00m\n\u001b[32m--> \u001b[39m\u001b[32m255\u001b[39m         i = \u001b[38;5;28mself\u001b[39m.count + item.start \u001b[38;5;28;01mif\u001b[39;00m \u001b[43mitem\u001b[49m\u001b[43m.\u001b[49m\u001b[43mstart\u001b[49m\u001b[43m \u001b[49m\u001b[43m<\u001b[49m\u001b[43m \u001b[49m\u001b[32;43m0\u001b[39;49m \u001b[38;5;28;01melse\u001b[39;00m item.start\n\u001b[32m    256\u001b[39m         \u001b[38;5;28mself\u001b[39m.populate(i + \u001b[38;5;28mself\u001b[39m._cache[item].index(\u001b[38;5;28;01mNone\u001b[39;00m))\n\u001b[32m    257\u001b[39m \u001b[38;5;28;01melif\u001b[39;00m \u001b[38;5;28mself\u001b[39m._cache[item] \u001b[38;5;129;01mis\u001b[39;00m \u001b[38;5;28;01mNone\u001b[39;00m:\n\u001b[32m    258\u001b[39m     \u001b[38;5;66;03m# If index is -ve, convert to +ve\u001b[39;00m\n",
      "\u001b[31mTypeError\u001b[39m: '<' not supported between instances of 'NoneType' and 'int'"
     ]
    }
   ],
   "source": [
    "\n",
    "query = 'field_of_view__imaging_type__name,mesoscope'\n",
    "eids = one.search(procedures='Imaging', django=query, query_type='remote')\n",
    "\n",
    "print(f\"Number of mesoscope imaging sessions: {len(eids)}\")\n",
    "\n",
    "# Let's create a list to store session information\n",
    "good_sessions = []\n",
    "\n",
    "# Define a limit to avoid processing all sessions\n",
    "session_limit = 310  # Adjust as needed\n",
    "\n",
    "for i, eid in enumerate(eids[:session_limit]):\n",
    "    print(f\"\\nProcessing session {i+1}/{session_limit} (ID: {eid})\")\n",
    "    \n",
    "    try:\n",
    "        # Get session metadata\n",
    "        session_info = one.get_details(eid, full=True)\n",
    "        task_protocol = session_info.get('task_protocol', '')\n",
    "        \n",
    "        # Check if the session is biasedChoiceWorld or passiveChoiceWorld\n",
    "        if not ('biasedChoiceWorld' in task_protocol or 'passiveChoiceWorld' in task_protocol):\n",
    "            print(\"- Not biasedChoiceWorld or passiveChoiceWorld, skipping\")\n",
    "            continue\n",
    "            \n",
    "        # Get session duration\n",
    "        # print(session_info)\n",
    "        session_start = session_info['start_time']\n",
    "        session_end = session_info['end_time']\n",
    "        duration_hours = None\n",
    "        if session_start and session_end:\n",
    "            start_dt = datetime.fromisoformat(session_start.replace('Z', '+00:00'))\n",
    "            end_dt = datetime.fromisoformat(session_end.replace('Z', '+00:00'))\n",
    "            # Calculate duration\n",
    "            duration_seconds = (end_dt - start_dt).total_seconds()\n",
    "            duration_hours = duration_seconds / 3600\n",
    "            \n",
    "            if duration_hours < 1:\n",
    "                print(f\"- Session too short ({duration_hours:.2f} hours), skipping\")\n",
    "                continue\n",
    "            else:\n",
    "                print(f\"Session duration: {duration_hours:.2f} hours\")\n",
    "        else:\n",
    "            print(\"- Missing session start or end time, skipping\")\n",
    "            continue\n",
    "    \n",
    "        # List all datasets to identify FOVs\n",
    "        all_datasets = one.list_datasets(eid)\n",
    "        \n",
    "        # Find all FOVs in this session\n",
    "        fov_collections = set()\n",
    "        for dataset in all_datasets:\n",
    "            if 'mpci' in dataset and 'FOV_' in dataset:\n",
    "                # Extract collection path (e.g., alf/FOV_00)\n",
    "                parts = dataset.split('/')\n",
    "                if len(parts) >= 2:  # Make sure we have at least collection/dataset\n",
    "                    collection = '/'.join(parts[:-1])  # Everything except the last part\n",
    "                    fov_collections.add(collection)\n",
    "        \n",
    "        # Sort FOV collections for consistent order\n",
    "        fov_collections = sorted(list(fov_collections))\n",
    "        print(f\"Found {len(fov_collections)} FOV collections: {fov_collections}\")\n",
    "        \n",
    "        # Process each FOV collection\n",
    "        good_fovs = []\n",
    "        \n",
    "        for collection in fov_collections:\n",
    "            try:\n",
    "                print(f\"Checking FOV collection: {collection}\")\n",
    "                \n",
    "                # List all datasets in this FOV\n",
    "                fov_datasets = one.list_datasets(eid, collection=collection)\n",
    "                \n",
    "                # Check if necessary datasets exist\n",
    "                has_roi_activity = any('mpci.ROIActivityDeconvolved' in ds for ds in fov_datasets)\n",
    "                has_times = any('mpci.times' in ds for ds in fov_datasets)\n",
    "                has_bad_frames = any('mpci.badFrames' in ds for ds in fov_datasets)\n",
    "                has_frame_qc = any('mpci.mpciFrameQC' in ds for ds in fov_datasets)\n",
    "                \n",
    "                # Print which datasets are present\n",
    "                print(f\"Required datasets present: ROIActivity={has_roi_activity}, times={has_times}, badFrames={has_bad_frames}, frameQC={has_frame_qc}\")\n",
    "                \n",
    "                if not (has_roi_activity and has_times and has_bad_frames and has_frame_qc):\n",
    "                    print(f\"- Missing required datasets, skipping\")\n",
    "                    continue\n",
    "                \n",
    "                # Only load QC data to check for issues (much smaller files)\n",
    "                bad_frames = one.load_dataset(eid, 'mpci.badFrames', collection=collection)\n",
    "                frame_qc = one.load_dataset(eid, 'mpci.mpciFrameQC', collection=collection)\n",
    "                \n",
    "                if bad_frames is None or frame_qc is None:\n",
    "                    print(f\"- Could not load QC datasets, skipping\")\n",
    "                    continue\n",
    "                \n",
    "                # Check if there are any bad frames\n",
    "                bad_frame_count = np.sum(bad_frames)\n",
    "                qc_issue_count = np.sum(frame_qc)\n",
    "                \n",
    "                # Allow up to 5% bad frames\n",
    "                total_frames = len(bad_frames)\n",
    "                bad_frame_percentage = (bad_frame_count / total_frames) * 100 if total_frames > 0 else 0\n",
    "                qc_issue_percentage = (qc_issue_count / total_frames) * 100 if total_frames > 0 else 0\n",
    "                \n",
    "                max_allowed_percentage = 5\n",
    "                \n",
    "                if bad_frame_percentage > max_allowed_percentage or qc_issue_percentage > max_allowed_percentage:\n",
    "                    print(f\"- {collection} has too many QC issues: {bad_frame_percentage:.1f}% bad frames, {qc_issue_percentage:.1f}% QC issues\")\n",
    "                    continue\n",
    "                \n",
    "                # For ROI count, we'll use a less data-intensive approach\n",
    "                # Just load the ROI Activity shape to get the count\n",
    "                try:\n",
    "                    # This will only load the array metadata, not the full array\n",
    "                    roi_activity = one.load_dataset(eid, 'mpci.ROIActivityDeconvolved', collection=collection)\n",
    "                    roi_count = roi_activity.shape[1]  # Number of columns = number of ROIs\n",
    "                    print(f\"Found {roi_count} ROIs in activity matrix\")\n",
    "                    \n",
    "                    # If there are too few ROIs, skip this FOV\n",
    "                    if roi_count < 50:  # Adjust this threshold as needed\n",
    "                        print(f\"- Too few ROIs ({roi_count}), skipping\")\n",
    "                        continue\n",
    "                    \n",
    "                except Exception as e:\n",
    "                    print(f\"- Error getting ROI count: {str(e)}\")\n",
    "                    continue\n",
    "                \n",
    "                # This FOV passed all checks\n",
    "                good_fovs.append({\n",
    "                    'collection': collection,\n",
    "                    'roi_count': roi_count,\n",
    "                    'frame_count': total_frames,\n",
    "                    'bad_frame_percentage': bad_frame_percentage,\n",
    "                    'qc_issue_percentage': qc_issue_percentage\n",
    "                })\n",
    "                \n",
    "                print(f\"+ Good FOV! {collection}: {roi_count} ROIs, {total_frames} frames\")\n",
    "                \n",
    "            except Exception as e:\n",
    "                print(f\"- Error processing FOV {collection}: {str(e)}\")\n",
    "        \n",
    "        # Only add session if it has at least one good FOV\n",
    "        if good_fovs:\n",
    "            subject = session_info.get('subject', 'unknown')\n",
    "            date = session_info.get('start_time', 'unknown')\n",
    "            \n",
    "            # Add session to good sessions list\n",
    "            good_sessions.append({\n",
    "                'eid': eid,\n",
    "                'subject': subject,\n",
    "                'date': date,\n",
    "                'duration_hours': duration_hours if duration_hours else 0,\n",
    "                'task_protocol': task_protocol,\n",
    "                'fov_count': len(good_fovs),\n",
    "                'total_rois': sum(fov['roi_count'] for fov in good_fovs),\n",
    "                'fovs': good_fovs\n",
    "            })\n",
    "            \n",
    "            print(f\"+ Good session! {subject}, {duration_hours:.2f} hours, {len(good_fovs)} good FOVs, {sum(fov['roi_count'] for fov in good_fovs)} total ROIs\")\n",
    "        else:\n",
    "            print(\"- No good FOVs found in this session\")\n",
    "            \n",
    "    except Exception as e:\n",
    "        print(f\"- Error processing session: {str(e)}\")\n",
    "    \n",
    "    if len(good_sessions) >= 10:  # Stop once we have found enough good sessions\n",
    "        print(\"Found 10 good sessions, stopping search\")\n",
    "        break\n",
    "\n",
    "# Create a DataFrame of good sessions\n",
    "if good_sessions:\n",
    "    # Create main sessions dataframe\n",
    "    sessions_df = pd.DataFrame([{\n",
    "        'eid': s['eid'],\n",
    "        'subject': s['subject'],\n",
    "        'date': s['date'],\n",
    "        'duration_hours': s['duration_hours'],\n",
    "        'task_protocol': s['task_protocol'],\n",
    "        'good_fov_count': s['fov_count'],\n",
    "        'total_rois': s['total_rois']\n",
    "    } for s in good_sessions])\n",
    "    \n",
    "    print(\"\\nGood sessions found:\")\n",
    "    print(sessions_df)\n",
    "    \n",
    "    # Create FOVs dataframe for the first session\n",
    "    if good_sessions and 'fovs' in good_sessions[0]:\n",
    "        first_session_fovs = pd.DataFrame(good_sessions[0]['fovs'])\n",
    "        print(f\"\\nFOVs in first good session ({good_sessions[0]['eid']}):\")\n",
    "        print(first_session_fovs)\n",
    "    \n",
    "    print(\"\\nExample code to load and process data from all FOVs in the first good session:\")\n",
    "    if good_sessions:\n",
    "        session = good_sessions[0]\n",
    "        eid = session['eid']\n",
    "        fov_collections = [fov['collection'] for fov in session['fovs']]\n",
    "        \n",
    "        \n",
    "else:\n",
    "    print(\"No good sessions found. Consider relaxing the criteria.\")"
   ]
  },
  {
   "cell_type": "code",
   "execution_count": 97,
   "id": "26ae0b2d",
   "metadata": {},
   "outputs": [
    {
     "data": {
      "text/plain": [
       "array(['61f260e7-b5d3-4865-a577-bcfc53fda8a8',\n",
       "       '5ea6bb9b-6163-4e8a-816b-efe7002666b0',\n",
       "       'd682fbb9-4fd9-450c-9812-e7c32f754a42',\n",
       "       'dd45de54-6b3c-443a-949d-e74954fc33b2',\n",
       "       '3f8c0614-5bd4-4c35-b13e-042e25823a64',\n",
       "       '7ba8c055-a1a8-4cf9-9acf-1c43f2a99dbf',\n",
       "       '00fbcc3f-9ee1-4993-9f94-ce8be232752c',\n",
       "       '727b4408-49d4-4742-85c8-323cd187f5fa',\n",
       "       'b7f5b6ee-5ec9-4c8f-8ae7-d07f6303f223',\n",
       "       'b52efb6c-f3b8-41c7-895f-365be2b3fc78'], dtype=object)"
      ]
     },
     "execution_count": 97,
     "metadata": {},
     "output_type": "execute_result"
    }
   ],
   "source": [
    "df= pd.read_csv('good_mesoscope_sessions.csv')\n",
    "df['eid'].values"
   ]
  },
  {
   "cell_type": "code",
   "execution_count": null,
   "id": "89b27168",
   "metadata": {},
   "outputs": [
    {
     "name": "stdout",
     "output_type": "stream",
     "text": [
      "Number of mesoscope imaging sessions: 319\n",
      "\n",
      "Processing batch 1, sessions 1-50\n",
      "\n",
      "Processing session 1/319 (ID: 61f260e7-b5d3-4865-a577-bcfc53fda8a8)\n",
      "Session duration: 1.08 hours\n",
      "Found 8 FOV collections: ['alf/FOV_00', 'alf/FOV_01', 'alf/FOV_02', 'alf/FOV_03', 'alf/FOV_04', 'alf/FOV_05', 'alf/FOV_06', 'alf/FOV_07']\n",
      "Checking FOV collection: alf/FOV_00\n",
      "Required datasets present: ROIActivity=True, times=True, badFrames=True, frameQC=True\n",
      "Found 3033 ROIs in activity matrix\n",
      "+ Good FOV! alf/FOV_00: 3033 ROIs, 19081 frames\n",
      "Checking FOV collection: alf/FOV_01\n",
      "Required datasets present: ROIActivity=True, times=True, badFrames=True, frameQC=True\n",
      "Found 3470 ROIs in activity matrix\n",
      "+ Good FOV! alf/FOV_01: 3470 ROIs, 19081 frames\n",
      "Checking FOV collection: alf/FOV_02\n",
      "Required datasets present: ROIActivity=True, times=True, badFrames=True, frameQC=True\n",
      "Found 4491 ROIs in activity matrix\n",
      "+ Good FOV! alf/FOV_02: 4491 ROIs, 19081 frames\n",
      "Checking FOV collection: alf/FOV_03\n",
      "Required datasets present: ROIActivity=True, times=True, badFrames=True, frameQC=True\n",
      "Found 2168 ROIs in activity matrix\n",
      "+ Good FOV! alf/FOV_03: 2168 ROIs, 19081 frames\n",
      "Checking FOV collection: alf/FOV_04\n",
      "Required datasets present: ROIActivity=True, times=True, badFrames=True, frameQC=True\n",
      "Found 3080 ROIs in activity matrix\n",
      "+ Good FOV! alf/FOV_04: 3080 ROIs, 19081 frames\n",
      "Checking FOV collection: alf/FOV_05\n",
      "Required datasets present: ROIActivity=True, times=True, badFrames=True, frameQC=True\n",
      "Found 1764 ROIs in activity matrix\n",
      "+ Good FOV! alf/FOV_05: 1764 ROIs, 19081 frames\n",
      "Checking FOV collection: alf/FOV_06\n",
      "Required datasets present: ROIActivity=True, times=True, badFrames=True, frameQC=True\n",
      "Found 4023 ROIs in activity matrix\n",
      "+ Good FOV! alf/FOV_06: 4023 ROIs, 19081 frames\n",
      "Checking FOV collection: alf/FOV_07\n",
      "Required datasets present: ROIActivity=True, times=True, badFrames=True, frameQC=True\n",
      "Found 3780 ROIs in activity matrix\n",
      "+ Good FOV! alf/FOV_07: 3780 ROIs, 19081 frames\n",
      "+ Good session! SP066, 1.08 hours, 8 good FOVs, 25809 total ROIs\n",
      "\n",
      "Processing session 2/319 (ID: 9b636933-8347-4b8e-90b5-b67a94bffaf2)\n",
      "- Not biasedChoiceWorld or passiveChoiceWorld, skipping\n",
      "\n",
      "Processing session 3/319 (ID: ca572c4e-9efd-4ffa-8374-a23de6f79186)\n",
      "- Not biasedChoiceWorld or passiveChoiceWorld, skipping\n",
      "\n",
      "Processing session 4/319 (ID: 68ce0419-4019-43c0-a9e5-220b98784ea5)\n",
      "- Not biasedChoiceWorld or passiveChoiceWorld, skipping\n",
      "\n",
      "Processing session 5/319 (ID: f37941d6-2a84-4ad0-94e0-77069a3a8941)\n",
      "- Not biasedChoiceWorld or passiveChoiceWorld, skipping\n",
      "\n",
      "Processing session 6/319 (ID: b74405eb-3a0e-41ae-8566-533d1033d5d9)\n",
      "- Not biasedChoiceWorld or passiveChoiceWorld, skipping\n",
      "\n",
      "Processing session 7/319 (ID: 5ea6bb9b-6163-4e8a-816b-efe7002666b0)\n",
      "Session duration: 1.20 hours\n",
      "Found 8 FOV collections: ['alf/FOV_00', 'alf/FOV_01', 'alf/FOV_02', 'alf/FOV_03', 'alf/FOV_04', 'alf/FOV_05', 'alf/FOV_06', 'alf/FOV_07']\n",
      "Checking FOV collection: alf/FOV_00\n",
      "Required datasets present: ROIActivity=True, times=True, badFrames=True, frameQC=True\n",
      "Found 4087 ROIs in activity matrix\n",
      "+ Good FOV! alf/FOV_00: 4087 ROIs, 22074 frames\n",
      "Checking FOV collection: alf/FOV_01\n",
      "Required datasets present: ROIActivity=True, times=True, badFrames=True, frameQC=True\n",
      "Found 3923 ROIs in activity matrix\n",
      "+ Good FOV! alf/FOV_01: 3923 ROIs, 22074 frames\n",
      "Checking FOV collection: alf/FOV_02\n",
      "Required datasets present: ROIActivity=True, times=True, badFrames=True, frameQC=True\n",
      "Found 3537 ROIs in activity matrix\n",
      "+ Good FOV! alf/FOV_02: 3537 ROIs, 22074 frames\n",
      "Checking FOV collection: alf/FOV_03\n",
      "Required datasets present: ROIActivity=True, times=True, badFrames=True, frameQC=True\n",
      "Found 4478 ROIs in activity matrix\n",
      "+ Good FOV! alf/FOV_03: 4478 ROIs, 22074 frames\n",
      "Checking FOV collection: alf/FOV_04\n",
      "Required datasets present: ROIActivity=True, times=True, badFrames=True, frameQC=True\n",
      "Found 4006 ROIs in activity matrix\n",
      "+ Good FOV! alf/FOV_04: 4006 ROIs, 22074 frames\n",
      "Checking FOV collection: alf/FOV_05\n",
      "Required datasets present: ROIActivity=True, times=True, badFrames=True, frameQC=True\n",
      "Found 3893 ROIs in activity matrix\n",
      "+ Good FOV! alf/FOV_05: 3893 ROIs, 22074 frames\n",
      "Checking FOV collection: alf/FOV_06\n",
      "Required datasets present: ROIActivity=True, times=True, badFrames=True, frameQC=True\n",
      "Found 3150 ROIs in activity matrix\n",
      "+ Good FOV! alf/FOV_06: 3150 ROIs, 22074 frames\n",
      "Checking FOV collection: alf/FOV_07\n",
      "Required datasets present: ROIActivity=True, times=True, badFrames=True, frameQC=True\n",
      "Found 4587 ROIs in activity matrix\n",
      "+ Good FOV! alf/FOV_07: 4587 ROIs, 22074 frames\n",
      "+ Good session! SP063, 1.20 hours, 8 good FOVs, 31661 total ROIs\n",
      "\n",
      "Processing session 8/319 (ID: d682fbb9-4fd9-450c-9812-e7c32f754a42)\n",
      "Session duration: 1.17 hours\n",
      "Found 8 FOV collections: ['alf/FOV_00', 'alf/FOV_01', 'alf/FOV_02', 'alf/FOV_03', 'alf/FOV_04', 'alf/FOV_05', 'alf/FOV_06', 'alf/FOV_07']\n",
      "Checking FOV collection: alf/FOV_00\n",
      "Required datasets present: ROIActivity=True, times=True, badFrames=True, frameQC=True\n",
      "Found 3671 ROIs in activity matrix\n",
      "+ Good FOV! alf/FOV_00: 3671 ROIs, 21157 frames\n",
      "Checking FOV collection: alf/FOV_01\n",
      "Required datasets present: ROIActivity=True, times=True, badFrames=True, frameQC=True\n",
      "Found 3653 ROIs in activity matrix\n",
      "+ Good FOV! alf/FOV_01: 3653 ROIs, 21157 frames\n",
      "Checking FOV collection: alf/FOV_02\n",
      "Required datasets present: ROIActivity=True, times=True, badFrames=True, frameQC=True\n",
      "Found 1762 ROIs in activity matrix\n",
      "+ Good FOV! alf/FOV_02: 1762 ROIs, 21157 frames\n",
      "Checking FOV collection: alf/FOV_03\n",
      "Required datasets present: ROIActivity=True, times=True, badFrames=True, frameQC=True\n",
      "Found 3780 ROIs in activity matrix\n",
      "+ Good FOV! alf/FOV_03: 3780 ROIs, 21157 frames\n",
      "Checking FOV collection: alf/FOV_04\n",
      "Required datasets present: ROIActivity=True, times=True, badFrames=True, frameQC=True\n",
      "Found 3590 ROIs in activity matrix\n",
      "+ Good FOV! alf/FOV_04: 3590 ROIs, 21157 frames\n",
      "Checking FOV collection: alf/FOV_05\n",
      "Required datasets present: ROIActivity=True, times=True, badFrames=True, frameQC=True\n",
      "Found 2875 ROIs in activity matrix\n",
      "+ Good FOV! alf/FOV_05: 2875 ROIs, 21157 frames\n",
      "Checking FOV collection: alf/FOV_06\n",
      "Required datasets present: ROIActivity=True, times=True, badFrames=True, frameQC=True\n",
      "Found 2413 ROIs in activity matrix\n",
      "+ Good FOV! alf/FOV_06: 2413 ROIs, 21157 frames\n",
      "Checking FOV collection: alf/FOV_07\n",
      "Required datasets present: ROIActivity=True, times=True, badFrames=True, frameQC=True\n",
      "Found 4415 ROIs in activity matrix\n",
      "+ Good FOV! alf/FOV_07: 4415 ROIs, 21157 frames\n",
      "+ Good session! SP063, 1.17 hours, 8 good FOVs, 26159 total ROIs\n",
      "\n",
      "Processing session 9/319 (ID: 4808526f-2afd-4b1a-bd0d-d722aac2033e)\n",
      "- Not biasedChoiceWorld or passiveChoiceWorld, skipping\n",
      "\n",
      "Processing session 10/319 (ID: 4bee6989-185f-4b97-9c39-6a8ce04a79de)\n",
      "- Not biasedChoiceWorld or passiveChoiceWorld, skipping\n",
      "\n",
      "Processing session 11/319 (ID: fa357c34-7425-43c9-b5c1-6c2e3a14f060)\n",
      "- Not biasedChoiceWorld or passiveChoiceWorld, skipping\n",
      "\n",
      "Processing session 12/319 (ID: 3aa03b00-9477-42d5-86cd-2d670a072b44)\n",
      "- Not biasedChoiceWorld or passiveChoiceWorld, skipping\n",
      "\n",
      "Processing session 13/319 (ID: 6e4589a5-0ae9-4f57-b83d-ae93d774fcf7)\n",
      "- Not biasedChoiceWorld or passiveChoiceWorld, skipping\n",
      "\n",
      "Processing session 14/319 (ID: 8c00d94a-1d33-45e0-8905-1b7a1147597c)\n",
      "- Not biasedChoiceWorld or passiveChoiceWorld, skipping\n",
      "\n",
      "Processing session 15/319 (ID: b6f6570a-efac-4c79-bb92-950f7ceb5cf2)\n",
      "- Not biasedChoiceWorld or passiveChoiceWorld, skipping\n",
      "\n",
      "Processing session 16/319 (ID: f0008f8b-09e5-4b51-8233-f1cb55a6cb66)\n",
      "- Not biasedChoiceWorld or passiveChoiceWorld, skipping\n",
      "\n",
      "Processing session 17/319 (ID: 7f73d2e5-3b83-4dcd-b12e-2ea8aad5e7c9)\n",
      "- Not biasedChoiceWorld or passiveChoiceWorld, skipping\n",
      "\n",
      "Processing session 18/319 (ID: c398842f-aeb5-4243-bc15-dfe86af1fde5)\n",
      "- Not biasedChoiceWorld or passiveChoiceWorld, skipping\n",
      "\n",
      "Processing session 19/319 (ID: 7d075ff2-c1a2-4f37-92b2-f734ea8eac2e)\n",
      "- Not biasedChoiceWorld or passiveChoiceWorld, skipping\n",
      "\n",
      "Processing session 20/319 (ID: 49c2768c-626d-4160-80e2-3956f4cd6a3d)\n",
      "- Not biasedChoiceWorld or passiveChoiceWorld, skipping\n",
      "\n",
      "Processing session 21/319 (ID: 5e301020-bd02-4590-9848-ca821d4ed8c4)\n",
      "- Not biasedChoiceWorld or passiveChoiceWorld, skipping\n",
      "\n",
      "Processing session 22/319 (ID: aacd9921-0e13-434e-bee6-08377f092e7b)\n",
      "- Not biasedChoiceWorld or passiveChoiceWorld, skipping\n",
      "\n",
      "Processing session 23/319 (ID: 44f498c3-9b92-4188-ae4d-f51392bd2ff4)\n",
      "- Not biasedChoiceWorld or passiveChoiceWorld, skipping\n",
      "\n",
      "Processing session 24/319 (ID: 5ce2e17e-8471-42d4-8a16-21949710b328)\n",
      "- Not biasedChoiceWorld or passiveChoiceWorld, skipping\n",
      "\n",
      "Processing session 25/319 (ID: 42d7e11e-3185-4a79-a6ad-bbaf47366db2)\n",
      "- Not biasedChoiceWorld or passiveChoiceWorld, skipping\n",
      "\n",
      "Processing session 26/319 (ID: 4693e7cc-17f6-4eeb-8abb-5951ba82b601)\n",
      "- Not biasedChoiceWorld or passiveChoiceWorld, skipping\n",
      "\n",
      "Processing session 27/319 (ID: e7c3df94-ef2a-44ed-a8e3-9d1a995b54f9)\n",
      "- Not biasedChoiceWorld or passiveChoiceWorld, skipping\n",
      "\n",
      "Processing session 28/319 (ID: 2db5fa46-ec52-48ae-a8c0-306bd892721d)\n",
      "- Not biasedChoiceWorld or passiveChoiceWorld, skipping\n",
      "\n",
      "Processing session 29/319 (ID: b7d11994-4816-4c7d-878c-b367031d9686)\n",
      "- Not biasedChoiceWorld or passiveChoiceWorld, skipping\n",
      "\n",
      "Processing session 30/319 (ID: ed2f9c5c-1298-482f-8dea-e73fddd3efa2)\n",
      "- Session too short (0.83 hours), skipping\n",
      "\n",
      "Processing session 31/319 (ID: 0685721b-88a1-4bc6-8b33-579f6cefc4d8)\n",
      "- Session too short (0.89 hours), skipping\n",
      "\n",
      "Processing session 32/319 (ID: 5096032e-0fdd-406c-b939-1b97e0f6738d)\n",
      "- Not biasedChoiceWorld or passiveChoiceWorld, skipping\n",
      "\n",
      "Processing session 33/319 (ID: 9104dcf1-6f6e-4e8a-9ef1-be2e1713693a)\n",
      "- Session too short (0.98 hours), skipping\n",
      "\n",
      "Processing session 34/319 (ID: d2330d8a-7c63-4fe8-afd1-9a2a984d89e6)\n",
      "- Not biasedChoiceWorld or passiveChoiceWorld, skipping\n",
      "\n",
      "Processing session 35/319 (ID: dd45de54-6b3c-443a-949d-e74954fc33b2)\n",
      "Session duration: 1.03 hours\n",
      "Found 8 FOV collections: ['alf/FOV_00', 'alf/FOV_01', 'alf/FOV_02', 'alf/FOV_03', 'alf/FOV_04', 'alf/FOV_05', 'alf/FOV_06', 'alf/FOV_07']\n",
      "Checking FOV collection: alf/FOV_00\n",
      "Required datasets present: ROIActivity=True, times=True, badFrames=True, frameQC=True\n"
     ]
    },
    {
     "name": "stderr",
     "output_type": "stream",
     "text": [
      "(S3) C:\\Users\\Gugu\\Downloads\\ONE\\alyx.internationalbrainlab.org\\cortexlab\\Subjects\\SP061\\2024-12-18\\001\\alf\\FOV_00\\mpci.badFrames.npy: 100%|██████████| 19.0k/19.0k [00:00<00:00, 84.8kB/s]\n",
      "(S3) C:\\Users\\Gugu\\Downloads\\ONE\\alyx.internationalbrainlab.org\\cortexlab\\Subjects\\SP061\\2024-12-18\\001\\alf\\FOV_00\\mpci.mpciFrameQC.npy: 100%|██████████| 75.5k/75.5k [00:00<00:00, 193kB/s]\n",
      "(S3) C:\\Users\\Gugu\\Downloads\\ONE\\alyx.internationalbrainlab.org\\cortexlab\\Subjects\\SP061\\2024-12-18\\001\\alf\\FOV_00\\mpci.ROIActivityDeconvolved.npy: 100%|██████████| 266M/266M [00:06<00:00, 40.2MB/s] \n"
     ]
    },
    {
     "name": "stdout",
     "output_type": "stream",
     "text": [
      "Found 3528 ROIs in activity matrix\n",
      "+ Good FOV! alf/FOV_00: 3528 ROIs, 18842 frames\n",
      "Checking FOV collection: alf/FOV_01\n",
      "Required datasets present: ROIActivity=True, times=True, badFrames=True, frameQC=True\n"
     ]
    },
    {
     "name": "stderr",
     "output_type": "stream",
     "text": [
      "(S3) C:\\Users\\Gugu\\Downloads\\ONE\\alyx.internationalbrainlab.org\\cortexlab\\Subjects\\SP061\\2024-12-18\\001\\alf\\FOV_01\\mpci.badFrames.npy: 100%|██████████| 19.0k/19.0k [00:00<00:00, 88.7kB/s]\n",
      "(S3) C:\\Users\\Gugu\\Downloads\\ONE\\alyx.internationalbrainlab.org\\cortexlab\\Subjects\\SP061\\2024-12-18\\001\\alf\\FOV_01\\mpci.mpciFrameQC.npy: 100%|██████████| 75.5k/75.5k [00:00<00:00, 165kB/s]\n",
      "(S3) C:\\Users\\Gugu\\Downloads\\ONE\\alyx.internationalbrainlab.org\\cortexlab\\Subjects\\SP061\\2024-12-18\\001\\alf\\FOV_01\\mpci.ROIActivityDeconvolved.npy: 100%|██████████| 201M/201M [00:05<00:00, 38.7MB/s] \n"
     ]
    },
    {
     "name": "stdout",
     "output_type": "stream",
     "text": [
      "Found 2672 ROIs in activity matrix\n",
      "+ Good FOV! alf/FOV_01: 2672 ROIs, 18842 frames\n",
      "Checking FOV collection: alf/FOV_02\n",
      "Required datasets present: ROIActivity=True, times=True, badFrames=True, frameQC=True\n"
     ]
    },
    {
     "name": "stderr",
     "output_type": "stream",
     "text": [
      "(S3) C:\\Users\\Gugu\\Downloads\\ONE\\alyx.internationalbrainlab.org\\cortexlab\\Subjects\\SP061\\2024-12-18\\001\\alf\\FOV_02\\mpci.badFrames.npy: 100%|██████████| 19.0k/19.0k [00:00<00:00, 79.8kB/s]\n",
      "(S3) C:\\Users\\Gugu\\Downloads\\ONE\\alyx.internationalbrainlab.org\\cortexlab\\Subjects\\SP061\\2024-12-18\\001\\alf\\FOV_02\\mpci.mpciFrameQC.npy: 100%|██████████| 75.5k/75.5k [00:00<00:00, 194kB/s]\n",
      "(S3) C:\\Users\\Gugu\\Downloads\\ONE\\alyx.internationalbrainlab.org\\cortexlab\\Subjects\\SP061\\2024-12-18\\001\\alf\\FOV_02\\mpci.ROIActivityDeconvolved.npy: 100%|██████████| 307M/307M [00:06<00:00, 47.7MB/s] \n"
     ]
    },
    {
     "name": "stdout",
     "output_type": "stream",
     "text": [
      "Found 4068 ROIs in activity matrix\n",
      "+ Good FOV! alf/FOV_02: 4068 ROIs, 18842 frames\n",
      "Checking FOV collection: alf/FOV_03\n",
      "Required datasets present: ROIActivity=True, times=True, badFrames=True, frameQC=True\n"
     ]
    },
    {
     "name": "stderr",
     "output_type": "stream",
     "text": [
      "(S3) C:\\Users\\Gugu\\Downloads\\ONE\\alyx.internationalbrainlab.org\\cortexlab\\Subjects\\SP061\\2024-12-18\\001\\alf\\FOV_03\\mpci.badFrames.npy: 100%|██████████| 19.0k/19.0k [00:00<00:00, 72.3kB/s]\n",
      "(S3) C:\\Users\\Gugu\\Downloads\\ONE\\alyx.internationalbrainlab.org\\cortexlab\\Subjects\\SP061\\2024-12-18\\001\\alf\\FOV_03\\mpci.mpciFrameQC.npy: 100%|██████████| 75.5k/75.5k [00:00<00:00, 202kB/s]\n",
      "(S3) C:\\Users\\Gugu\\Downloads\\ONE\\alyx.internationalbrainlab.org\\cortexlab\\Subjects\\SP061\\2024-12-18\\001\\alf\\FOV_03\\mpci.ROIActivityDeconvolved.npy: 100%|██████████| 274M/274M [00:07<00:00, 37.0MB/s] \n"
     ]
    },
    {
     "name": "stdout",
     "output_type": "stream",
     "text": [
      "Found 3642 ROIs in activity matrix\n",
      "+ Good FOV! alf/FOV_03: 3642 ROIs, 18842 frames\n",
      "Checking FOV collection: alf/FOV_04\n",
      "Required datasets present: ROIActivity=True, times=True, badFrames=True, frameQC=True\n"
     ]
    },
    {
     "name": "stderr",
     "output_type": "stream",
     "text": [
      "(S3) C:\\Users\\Gugu\\Downloads\\ONE\\alyx.internationalbrainlab.org\\cortexlab\\Subjects\\SP061\\2024-12-18\\001\\alf\\FOV_04\\mpci.badFrames.npy: 100%|██████████| 19.0k/19.0k [00:00<00:00, 63.9kB/s]\n",
      "(S3) C:\\Users\\Gugu\\Downloads\\ONE\\alyx.internationalbrainlab.org\\cortexlab\\Subjects\\SP061\\2024-12-18\\001\\alf\\FOV_04\\mpci.mpciFrameQC.npy: 100%|██████████| 75.5k/75.5k [00:00<00:00, 216kB/s]\n",
      "(S3) C:\\Users\\Gugu\\Downloads\\ONE\\alyx.internationalbrainlab.org\\cortexlab\\Subjects\\SP061\\2024-12-18\\001\\alf\\FOV_04\\mpci.ROIActivityDeconvolved.npy: 100%|██████████| 257M/257M [00:05<00:00, 46.7MB/s] \n"
     ]
    },
    {
     "name": "stdout",
     "output_type": "stream",
     "text": [
      "Found 3405 ROIs in activity matrix\n",
      "+ Good FOV! alf/FOV_04: 3405 ROIs, 18842 frames\n",
      "Checking FOV collection: alf/FOV_05\n",
      "Required datasets present: ROIActivity=True, times=True, badFrames=True, frameQC=True\n"
     ]
    },
    {
     "name": "stderr",
     "output_type": "stream",
     "text": [
      "(S3) C:\\Users\\Gugu\\Downloads\\ONE\\alyx.internationalbrainlab.org\\cortexlab\\Subjects\\SP061\\2024-12-18\\001\\alf\\FOV_05\\mpci.badFrames.npy: 100%|██████████| 19.0k/19.0k [00:00<00:00, 92.4kB/s]\n",
      "(S3) C:\\Users\\Gugu\\Downloads\\ONE\\alyx.internationalbrainlab.org\\cortexlab\\Subjects\\SP061\\2024-12-18\\001\\alf\\FOV_05\\mpci.mpciFrameQC.npy: 100%|██████████| 75.5k/75.5k [00:00<00:00, 174kB/s]\n",
      "(S3) C:\\Users\\Gugu\\Downloads\\ONE\\alyx.internationalbrainlab.org\\cortexlab\\Subjects\\SP061\\2024-12-18\\001\\alf\\FOV_05\\mpci.ROIActivityDeconvolved.npy: 100%|██████████| 263M/263M [00:07<00:00, 33.4MB/s] \n"
     ]
    },
    {
     "name": "stdout",
     "output_type": "stream",
     "text": [
      "Found 3495 ROIs in activity matrix\n",
      "+ Good FOV! alf/FOV_05: 3495 ROIs, 18842 frames\n",
      "Checking FOV collection: alf/FOV_06\n",
      "Required datasets present: ROIActivity=True, times=True, badFrames=True, frameQC=True\n"
     ]
    },
    {
     "name": "stderr",
     "output_type": "stream",
     "text": [
      "(S3) C:\\Users\\Gugu\\Downloads\\ONE\\alyx.internationalbrainlab.org\\cortexlab\\Subjects\\SP061\\2024-12-18\\001\\alf\\FOV_06\\mpci.badFrames.npy: 100%|██████████| 19.0k/19.0k [00:00<00:00, 85.1kB/s]\n",
      "(S3) C:\\Users\\Gugu\\Downloads\\ONE\\alyx.internationalbrainlab.org\\cortexlab\\Subjects\\SP061\\2024-12-18\\001\\alf\\FOV_06\\mpci.mpciFrameQC.npy: 100%|██████████| 75.5k/75.5k [00:00<00:00, 220kB/s]\n",
      "(S3) C:\\Users\\Gugu\\Downloads\\ONE\\alyx.internationalbrainlab.org\\cortexlab\\Subjects\\SP061\\2024-12-18\\001\\alf\\FOV_06\\mpci.ROIActivityDeconvolved.npy: 100%|██████████| 293M/293M [00:10<00:00, 28.1MB/s] \n"
     ]
    },
    {
     "name": "stdout",
     "output_type": "stream",
     "text": [
      "Found 3889 ROIs in activity matrix\n",
      "+ Good FOV! alf/FOV_06: 3889 ROIs, 18842 frames\n",
      "Checking FOV collection: alf/FOV_07\n",
      "Required datasets present: ROIActivity=True, times=True, badFrames=True, frameQC=True\n"
     ]
    },
    {
     "name": "stderr",
     "output_type": "stream",
     "text": [
      "(S3) C:\\Users\\Gugu\\Downloads\\ONE\\alyx.internationalbrainlab.org\\cortexlab\\Subjects\\SP061\\2024-12-18\\001\\alf\\FOV_07\\mpci.badFrames.npy: 100%|██████████| 19.0k/19.0k [00:00<00:00, 90.6kB/s]\n",
      "(S3) C:\\Users\\Gugu\\Downloads\\ONE\\alyx.internationalbrainlab.org\\cortexlab\\Subjects\\SP061\\2024-12-18\\001\\alf\\FOV_07\\mpci.mpciFrameQC.npy: 100%|██████████| 75.5k/75.5k [00:00<00:00, 203kB/s]\n",
      "(S3) C:\\Users\\Gugu\\Downloads\\ONE\\alyx.internationalbrainlab.org\\cortexlab\\Subjects\\SP061\\2024-12-18\\001\\alf\\FOV_07\\mpci.ROIActivityDeconvolved.npy: 100%|██████████| 304M/304M [00:11<00:00, 27.0MB/s] \n"
     ]
    },
    {
     "name": "stdout",
     "output_type": "stream",
     "text": [
      "Found 4028 ROIs in activity matrix\n",
      "+ Good FOV! alf/FOV_07: 4028 ROIs, 18842 frames\n",
      "+ Good session! SP061, 1.03 hours, 8 good FOVs, 28727 total ROIs\n",
      "\n",
      "Processing session 36/319 (ID: c105ccbb-e90e-4493-8257-00d9d51dc5ef)\n",
      "- Not biasedChoiceWorld or passiveChoiceWorld, skipping\n",
      "\n",
      "Processing session 37/319 (ID: 1438e290-3e83-4f52-a4c7-bf915f65f47c)\n",
      "- Session too short (0.96 hours), skipping\n",
      "\n",
      "Processing session 38/319 (ID: 3f8c0614-5bd4-4c35-b13e-042e25823a64)\n",
      "Session duration: 1.01 hours\n",
      "Found 8 FOV collections: ['alf/FOV_00', 'alf/FOV_01', 'alf/FOV_02', 'alf/FOV_03', 'alf/FOV_04', 'alf/FOV_05', 'alf/FOV_06', 'alf/FOV_07']\n",
      "Checking FOV collection: alf/FOV_00\n",
      "Required datasets present: ROIActivity=True, times=True, badFrames=True, frameQC=True\n"
     ]
    },
    {
     "name": "stderr",
     "output_type": "stream",
     "text": [
      "(S3) C:\\Users\\Gugu\\Downloads\\ONE\\alyx.internationalbrainlab.org\\cortexlab\\Subjects\\SP061\\2024-12-13\\001\\alf\\FOV_00\\mpci.badFrames.npy: 100%|██████████| 18.9k/18.9k [00:00<00:00, 85.9kB/s]\n",
      "(S3) C:\\Users\\Gugu\\Downloads\\ONE\\alyx.internationalbrainlab.org\\cortexlab\\Subjects\\SP061\\2024-12-13\\001\\alf\\FOV_00\\mpci.mpciFrameQC.npy: 100%|██████████| 75.2k/75.2k [00:00<00:00, 178kB/s]\n",
      "(S3) C:\\Users\\Gugu\\Downloads\\ONE\\alyx.internationalbrainlab.org\\cortexlab\\Subjects\\SP061\\2024-12-13\\001\\alf\\FOV_00\\mpci.ROIActivityDeconvolved.npy: 100%|██████████| 172M/172M [00:07<00:00, 22.3MB/s] \n"
     ]
    },
    {
     "name": "stdout",
     "output_type": "stream",
     "text": [
      "Found 2284 ROIs in activity matrix\n",
      "+ Good FOV! alf/FOV_00: 2284 ROIs, 18780 frames\n",
      "Checking FOV collection: alf/FOV_01\n",
      "Required datasets present: ROIActivity=True, times=True, badFrames=True, frameQC=True\n"
     ]
    },
    {
     "name": "stderr",
     "output_type": "stream",
     "text": [
      "(S3) C:\\Users\\Gugu\\Downloads\\ONE\\alyx.internationalbrainlab.org\\cortexlab\\Subjects\\SP061\\2024-12-13\\001\\alf\\FOV_01\\mpci.badFrames.npy: 100%|██████████| 18.9k/18.9k [00:00<00:00, 80.0kB/s]\n",
      "(S3) C:\\Users\\Gugu\\Downloads\\ONE\\alyx.internationalbrainlab.org\\cortexlab\\Subjects\\SP061\\2024-12-13\\001\\alf\\FOV_01\\mpci.mpciFrameQC.npy: 100%|██████████| 75.2k/75.2k [00:00<00:00, 223kB/s]\n",
      "(S3) C:\\Users\\Gugu\\Downloads\\ONE\\alyx.internationalbrainlab.org\\cortexlab\\Subjects\\SP061\\2024-12-13\\001\\alf\\FOV_01\\mpci.ROIActivityDeconvolved.npy: 100%|██████████| 105M/105M [00:04<00:00, 24.9MB/s] \n"
     ]
    },
    {
     "name": "stdout",
     "output_type": "stream",
     "text": [
      "Found 1393 ROIs in activity matrix\n",
      "+ Good FOV! alf/FOV_01: 1393 ROIs, 18780 frames\n",
      "Checking FOV collection: alf/FOV_02\n",
      "Required datasets present: ROIActivity=True, times=True, badFrames=True, frameQC=True\n"
     ]
    },
    {
     "name": "stderr",
     "output_type": "stream",
     "text": [
      "(S3) C:\\Users\\Gugu\\Downloads\\ONE\\alyx.internationalbrainlab.org\\cortexlab\\Subjects\\SP061\\2024-12-13\\001\\alf\\FOV_02\\mpci.badFrames.npy: 100%|██████████| 18.9k/18.9k [00:00<00:00, 82.2kB/s]\n",
      "(S3) C:\\Users\\Gugu\\Downloads\\ONE\\alyx.internationalbrainlab.org\\cortexlab\\Subjects\\SP061\\2024-12-13\\001\\alf\\FOV_02\\mpci.mpciFrameQC.npy: 100%|██████████| 75.2k/75.2k [00:00<00:00, 167kB/s]\n",
      "(S3) C:\\Users\\Gugu\\Downloads\\ONE\\alyx.internationalbrainlab.org\\cortexlab\\Subjects\\SP061\\2024-12-13\\001\\alf\\FOV_02\\mpci.ROIActivityDeconvolved.npy: 100%|██████████| 309M/309M [00:08<00:00, 36.2MB/s] \n"
     ]
    },
    {
     "name": "stdout",
     "output_type": "stream",
     "text": [
      "Found 4114 ROIs in activity matrix\n",
      "+ Good FOV! alf/FOV_02: 4114 ROIs, 18780 frames\n",
      "Checking FOV collection: alf/FOV_03\n",
      "Required datasets present: ROIActivity=True, times=True, badFrames=True, frameQC=True\n"
     ]
    },
    {
     "name": "stderr",
     "output_type": "stream",
     "text": [
      "(S3) C:\\Users\\Gugu\\Downloads\\ONE\\alyx.internationalbrainlab.org\\cortexlab\\Subjects\\SP061\\2024-12-13\\001\\alf\\FOV_03\\mpci.badFrames.npy: 100%|██████████| 18.9k/18.9k [00:00<00:00, 84.8kB/s]\n",
      "(S3) C:\\Users\\Gugu\\Downloads\\ONE\\alyx.internationalbrainlab.org\\cortexlab\\Subjects\\SP061\\2024-12-13\\001\\alf\\FOV_03\\mpci.mpciFrameQC.npy: 100%|██████████| 75.2k/75.2k [00:00<00:00, 222kB/s]\n",
      "(S3) C:\\Users\\Gugu\\Downloads\\ONE\\alyx.internationalbrainlab.org\\cortexlab\\Subjects\\SP061\\2024-12-13\\001\\alf\\FOV_03\\mpci.ROIActivityDeconvolved.npy: 100%|██████████| 317M/317M [00:08<00:00, 37.0MB/s] \n"
     ]
    },
    {
     "name": "stdout",
     "output_type": "stream",
     "text": [
      "Found 4220 ROIs in activity matrix\n",
      "+ Good FOV! alf/FOV_03: 4220 ROIs, 18780 frames\n",
      "Checking FOV collection: alf/FOV_04\n",
      "Required datasets present: ROIActivity=True, times=True, badFrames=True, frameQC=True\n"
     ]
    },
    {
     "name": "stderr",
     "output_type": "stream",
     "text": [
      "(S3) C:\\Users\\Gugu\\Downloads\\ONE\\alyx.internationalbrainlab.org\\cortexlab\\Subjects\\SP061\\2024-12-13\\001\\alf\\FOV_04\\mpci.badFrames.npy: 100%|██████████| 18.9k/18.9k [00:00<00:00, 83.9kB/s]\n",
      "(S3) C:\\Users\\Gugu\\Downloads\\ONE\\alyx.internationalbrainlab.org\\cortexlab\\Subjects\\SP061\\2024-12-13\\001\\alf\\FOV_04\\mpci.mpciFrameQC.npy: 100%|██████████| 75.2k/75.2k [00:00<00:00, 214kB/s]\n",
      "(S3) C:\\Users\\Gugu\\Downloads\\ONE\\alyx.internationalbrainlab.org\\cortexlab\\Subjects\\SP061\\2024-12-13\\001\\alf\\FOV_04\\mpci.ROIActivityDeconvolved.npy: 100%|██████████| 332M/332M [00:10<00:00, 32.0MB/s] \n"
     ]
    },
    {
     "name": "stdout",
     "output_type": "stream",
     "text": [
      "Found 4414 ROIs in activity matrix\n",
      "+ Good FOV! alf/FOV_04: 4414 ROIs, 18780 frames\n",
      "Checking FOV collection: alf/FOV_05\n",
      "Required datasets present: ROIActivity=True, times=True, badFrames=True, frameQC=True\n"
     ]
    },
    {
     "name": "stderr",
     "output_type": "stream",
     "text": [
      "(S3) C:\\Users\\Gugu\\Downloads\\ONE\\alyx.internationalbrainlab.org\\cortexlab\\Subjects\\SP061\\2024-12-13\\001\\alf\\FOV_05\\mpci.badFrames.npy: 100%|██████████| 18.9k/18.9k [00:00<00:00, 83.7kB/s]\n",
      "(S3) C:\\Users\\Gugu\\Downloads\\ONE\\alyx.internationalbrainlab.org\\cortexlab\\Subjects\\SP061\\2024-12-13\\001\\alf\\FOV_05\\mpci.mpciFrameQC.npy: 100%|██████████| 75.2k/75.2k [00:00<00:00, 208kB/s]\n",
      "(S3) C:\\Users\\Gugu\\Downloads\\ONE\\alyx.internationalbrainlab.org\\cortexlab\\Subjects\\SP061\\2024-12-13\\001\\alf\\FOV_05\\mpci.ROIActivityDeconvolved.npy: 100%|██████████| 288M/288M [00:07<00:00, 37.1MB/s] \n"
     ]
    },
    {
     "name": "stdout",
     "output_type": "stream",
     "text": [
      "Found 3834 ROIs in activity matrix\n",
      "+ Good FOV! alf/FOV_05: 3834 ROIs, 18780 frames\n",
      "Checking FOV collection: alf/FOV_06\n",
      "Required datasets present: ROIActivity=True, times=True, badFrames=True, frameQC=True\n"
     ]
    },
    {
     "name": "stderr",
     "output_type": "stream",
     "text": [
      "(S3) C:\\Users\\Gugu\\Downloads\\ONE\\alyx.internationalbrainlab.org\\cortexlab\\Subjects\\SP061\\2024-12-13\\001\\alf\\FOV_06\\mpci.badFrames.npy: 100%|██████████| 18.9k/18.9k [00:00<00:00, 53.5kB/s]\n",
      "(S3) C:\\Users\\Gugu\\Downloads\\ONE\\alyx.internationalbrainlab.org\\cortexlab\\Subjects\\SP061\\2024-12-13\\001\\alf\\FOV_06\\mpci.mpciFrameQC.npy: 100%|██████████| 75.2k/75.2k [00:00<00:00, 238kB/s]\n",
      "(S3) C:\\Users\\Gugu\\Downloads\\ONE\\alyx.internationalbrainlab.org\\cortexlab\\Subjects\\SP061\\2024-12-13\\001\\alf\\FOV_06\\mpci.ROIActivityDeconvolved.npy: 100%|██████████| 297M/297M [00:09<00:00, 31.5MB/s] \n"
     ]
    },
    {
     "name": "stdout",
     "output_type": "stream",
     "text": [
      "Found 3953 ROIs in activity matrix\n",
      "+ Good FOV! alf/FOV_06: 3953 ROIs, 18780 frames\n",
      "Checking FOV collection: alf/FOV_07\n",
      "Required datasets present: ROIActivity=True, times=True, badFrames=True, frameQC=True\n"
     ]
    },
    {
     "name": "stderr",
     "output_type": "stream",
     "text": [
      "(S3) C:\\Users\\Gugu\\Downloads\\ONE\\alyx.internationalbrainlab.org\\cortexlab\\Subjects\\SP061\\2024-12-13\\001\\alf\\FOV_07\\mpci.badFrames.npy: 100%|██████████| 18.9k/18.9k [00:00<00:00, 81.7kB/s]\n",
      "(S3) C:\\Users\\Gugu\\Downloads\\ONE\\alyx.internationalbrainlab.org\\cortexlab\\Subjects\\SP061\\2024-12-13\\001\\alf\\FOV_07\\mpci.mpciFrameQC.npy: 100%|██████████| 75.2k/75.2k [00:00<00:00, 228kB/s]\n",
      "(S3) C:\\Users\\Gugu\\Downloads\\ONE\\alyx.internationalbrainlab.org\\cortexlab\\Subjects\\SP061\\2024-12-13\\001\\alf\\FOV_07\\mpci.ROIActivityDeconvolved.npy: 100%|██████████| 229M/229M [00:10<00:00, 21.9MB/s] \n"
     ]
    },
    {
     "name": "stdout",
     "output_type": "stream",
     "text": [
      "Found 3053 ROIs in activity matrix\n",
      "+ Good FOV! alf/FOV_07: 3053 ROIs, 18780 frames\n",
      "+ Good session! SP061, 1.01 hours, 8 good FOVs, 27265 total ROIs\n",
      "\n",
      "Processing session 39/319 (ID: 2d3d4e91-b278-49e8-b80d-8d885f298a89)\n",
      "- Session too short (0.96 hours), skipping\n",
      "\n",
      "Processing session 40/319 (ID: ccd505c8-0f0b-4287-a240-8de968a560b4)\n",
      "- Session too short (0.35 hours), skipping\n",
      "\n",
      "Processing session 41/319 (ID: 965da895-e25a-43d1-945b-6a0e09b1286b)\n",
      "- Not biasedChoiceWorld or passiveChoiceWorld, skipping\n",
      "\n",
      "Processing session 42/319 (ID: 31635ba1-3b8c-4483-a3e2-aa6e5f0df0d4)\n",
      "- Not biasedChoiceWorld or passiveChoiceWorld, skipping\n",
      "\n",
      "Processing session 43/319 (ID: a9851452-f526-4456-b570-b1cabbeb93cf)\n",
      "- Not biasedChoiceWorld or passiveChoiceWorld, skipping\n",
      "\n",
      "Processing session 44/319 (ID: c5c5670b-1a98-424d-beac-7631a4f3ea61)\n",
      "- Not biasedChoiceWorld or passiveChoiceWorld, skipping\n",
      "\n",
      "Processing session 45/319 (ID: 4e4c5e58-0384-4771-a9ae-e7413f8c50f3)\n",
      "- Not biasedChoiceWorld or passiveChoiceWorld, skipping\n",
      "\n",
      "Processing session 46/319 (ID: 924c7e60-7fe8-4a30-a5f9-34edfbcd651a)\n",
      "- Not biasedChoiceWorld or passiveChoiceWorld, skipping\n",
      "\n",
      "Processing session 47/319 (ID: 7237b502-1d72-4c1e-8224-762ee477d55e)\n",
      "- Not biasedChoiceWorld or passiveChoiceWorld, skipping\n",
      "\n",
      "Processing session 48/319 (ID: 9fed9ccf-b0ce-432a-9a64-aa99052baeab)\n",
      "- Not biasedChoiceWorld or passiveChoiceWorld, skipping\n",
      "\n",
      "Processing session 49/319 (ID: 297f6b23-edb9-4730-991a-0aca0899c77f)\n",
      "- Not biasedChoiceWorld or passiveChoiceWorld, skipping\n",
      "\n",
      "Processing session 50/319 (ID: 097c18fa-c151-48a8-bd33-401f09db3235)\n",
      "- Not biasedChoiceWorld or passiveChoiceWorld, skipping\n",
      "\n",
      "Saving progress after batch: 5 good sessions found so far\n",
      "Pausing for 5 seconds before next batch...\n",
      "\n",
      "Processing batch 2, sessions 51-100\n",
      "\n",
      "Processing session 51/319 (ID: 53348d09-ad50-4ef5-9f73-b600069310bc)\n",
      "- Not biasedChoiceWorld or passiveChoiceWorld, skipping\n",
      "\n",
      "Processing session 52/319 (ID: 2b83208a-7d80-46f1-8fe9-2d56e5cc9d5c)\n",
      "- Not biasedChoiceWorld or passiveChoiceWorld, skipping\n",
      "\n",
      "Processing session 53/319 (ID: d3596c24-495f-4870-b628-f4070f9339ce)\n",
      "- Not biasedChoiceWorld or passiveChoiceWorld, skipping\n",
      "\n",
      "Processing session 54/319 (ID: 388ee1dc-f82a-497a-89f2-f3abe6e559b9)\n",
      "- Not biasedChoiceWorld or passiveChoiceWorld, skipping\n",
      "\n",
      "Processing session 55/319 (ID: f9f58877-4a85-4a1f-a9b1-535853387454)\n",
      "- Not biasedChoiceWorld or passiveChoiceWorld, skipping\n",
      "\n",
      "Processing session 56/319 (ID: 1318e153-3feb-4942-9a8e-031553a9122a)\n",
      "- Not biasedChoiceWorld or passiveChoiceWorld, skipping\n",
      "\n",
      "Processing session 57/319 (ID: 7ba8c055-a1a8-4cf9-9acf-1c43f2a99dbf)\n",
      "Session duration: 1.06 hours\n",
      "Found 8 FOV collections: ['alf/FOV_00', 'alf/FOV_01', 'alf/FOV_02', 'alf/FOV_03', 'alf/FOV_04', 'alf/FOV_05', 'alf/FOV_06', 'alf/FOV_07']\n",
      "Checking FOV collection: alf/FOV_00\n",
      "Required datasets present: ROIActivity=True, times=True, badFrames=True, frameQC=True\n"
     ]
    },
    {
     "name": "stderr",
     "output_type": "stream",
     "text": [
      "(S3) C:\\Users\\Gugu\\Downloads\\ONE\\alyx.internationalbrainlab.org\\cortexlab\\Subjects\\SP061\\2024-11-13\\001\\alf\\FOV_00\\mpci.badFrames.npy: 100%|██████████| 19.9k/19.9k [00:00<00:00, 92.5kB/s]\n",
      "(S3) C:\\Users\\Gugu\\Downloads\\ONE\\alyx.internationalbrainlab.org\\cortexlab\\Subjects\\SP061\\2024-11-13\\001\\alf\\FOV_00\\mpci.mpciFrameQC.npy: 100%|██████████| 79.0k/79.0k [00:00<00:00, 175kB/s]\n",
      "(S3) C:\\Users\\Gugu\\Downloads\\ONE\\alyx.internationalbrainlab.org\\cortexlab\\Subjects\\SP061\\2024-11-13\\001\\alf\\FOV_00\\mpci.ROIActivityDeconvolved.npy: 100%|██████████| 200M/200M [00:06<00:00, 32.2MB/s] \n"
     ]
    },
    {
     "name": "stdout",
     "output_type": "stream",
     "text": [
      "Found 2538 ROIs in activity matrix\n",
      "+ Good FOV! alf/FOV_00: 2538 ROIs, 19725 frames\n",
      "Checking FOV collection: alf/FOV_01\n",
      "Required datasets present: ROIActivity=True, times=True, badFrames=True, frameQC=True\n"
     ]
    },
    {
     "name": "stderr",
     "output_type": "stream",
     "text": [
      "(S3) C:\\Users\\Gugu\\Downloads\\ONE\\alyx.internationalbrainlab.org\\cortexlab\\Subjects\\SP061\\2024-11-13\\001\\alf\\FOV_01\\mpci.badFrames.npy: 100%|██████████| 19.9k/19.9k [00:00<00:00, 92.0kB/s]\n",
      "(S3) C:\\Users\\Gugu\\Downloads\\ONE\\alyx.internationalbrainlab.org\\cortexlab\\Subjects\\SP061\\2024-11-13\\001\\alf\\FOV_01\\mpci.mpciFrameQC.npy: 100%|██████████| 79.0k/79.0k [00:00<00:00, 181kB/s]\n",
      "(S3) C:\\Users\\Gugu\\Downloads\\ONE\\alyx.internationalbrainlab.org\\cortexlab\\Subjects\\SP061\\2024-11-13\\001\\alf\\FOV_01\\mpci.ROIActivityDeconvolved.npy: 100%|██████████| 120M/120M [00:06<00:00, 18.3MB/s] \n"
     ]
    },
    {
     "name": "stdout",
     "output_type": "stream",
     "text": [
      "Found 1519 ROIs in activity matrix\n",
      "+ Good FOV! alf/FOV_01: 1519 ROIs, 19725 frames\n",
      "Checking FOV collection: alf/FOV_02\n",
      "Required datasets present: ROIActivity=True, times=True, badFrames=True, frameQC=True\n"
     ]
    },
    {
     "name": "stderr",
     "output_type": "stream",
     "text": [
      "(S3) C:\\Users\\Gugu\\Downloads\\ONE\\alyx.internationalbrainlab.org\\cortexlab\\Subjects\\SP061\\2024-11-13\\001\\alf\\FOV_02\\mpci.badFrames.npy: 100%|██████████| 19.9k/19.9k [00:00<00:00, 83.5kB/s]\n",
      "(S3) C:\\Users\\Gugu\\Downloads\\ONE\\alyx.internationalbrainlab.org\\cortexlab\\Subjects\\SP061\\2024-11-13\\001\\alf\\FOV_02\\mpci.mpciFrameQC.npy: 100%|██████████| 79.0k/79.0k [00:00<00:00, 180kB/s]\n",
      "(S3) C:\\Users\\Gugu\\Downloads\\ONE\\alyx.internationalbrainlab.org\\cortexlab\\Subjects\\SP061\\2024-11-13\\001\\alf\\FOV_02\\mpci.ROIActivityDeconvolved.npy: 100%|██████████| 317M/317M [00:08<00:00, 36.2MB/s] \n"
     ]
    },
    {
     "name": "stdout",
     "output_type": "stream",
     "text": [
      "Found 4012 ROIs in activity matrix\n",
      "+ Good FOV! alf/FOV_02: 4012 ROIs, 19725 frames\n",
      "Checking FOV collection: alf/FOV_03\n",
      "Required datasets present: ROIActivity=True, times=True, badFrames=True, frameQC=True\n"
     ]
    },
    {
     "name": "stderr",
     "output_type": "stream",
     "text": [
      "(S3) C:\\Users\\Gugu\\Downloads\\ONE\\alyx.internationalbrainlab.org\\cortexlab\\Subjects\\SP061\\2024-11-13\\001\\alf\\FOV_03\\mpci.badFrames.npy: 100%|██████████| 19.9k/19.9k [00:00<00:00, 86.5kB/s]\n",
      "(S3) C:\\Users\\Gugu\\Downloads\\ONE\\alyx.internationalbrainlab.org\\cortexlab\\Subjects\\SP061\\2024-11-13\\001\\alf\\FOV_03\\mpci.mpciFrameQC.npy: 100%|██████████| 79.0k/79.0k [00:00<00:00, 213kB/s]\n",
      "(S3) C:\\Users\\Gugu\\Downloads\\ONE\\alyx.internationalbrainlab.org\\cortexlab\\Subjects\\SP061\\2024-11-13\\001\\alf\\FOV_03\\mpci.ROIActivityDeconvolved.npy: 100%|██████████| 303M/303M [00:09<00:00, 31.5MB/s] \n"
     ]
    },
    {
     "name": "stdout",
     "output_type": "stream",
     "text": [
      "Found 3839 ROIs in activity matrix\n",
      "+ Good FOV! alf/FOV_03: 3839 ROIs, 19725 frames\n",
      "Checking FOV collection: alf/FOV_04\n",
      "Required datasets present: ROIActivity=True, times=True, badFrames=True, frameQC=True\n"
     ]
    },
    {
     "name": "stderr",
     "output_type": "stream",
     "text": [
      "(S3) C:\\Users\\Gugu\\Downloads\\ONE\\alyx.internationalbrainlab.org\\cortexlab\\Subjects\\SP061\\2024-11-13\\001\\alf\\FOV_04\\mpci.badFrames.npy: 100%|██████████| 19.9k/19.9k [00:00<00:00, 80.4kB/s]\n",
      "(S3) C:\\Users\\Gugu\\Downloads\\ONE\\alyx.internationalbrainlab.org\\cortexlab\\Subjects\\SP061\\2024-11-13\\001\\alf\\FOV_04\\mpci.mpciFrameQC.npy: 100%|██████████| 79.0k/79.0k [00:00<00:00, 212kB/s]\n",
      "(S3) C:\\Users\\Gugu\\Downloads\\ONE\\alyx.internationalbrainlab.org\\cortexlab\\Subjects\\SP061\\2024-11-13\\001\\alf\\FOV_04\\mpci.ROIActivityDeconvolved.npy: 100%|██████████| 347M/347M [00:10<00:00, 33.0MB/s] \n"
     ]
    },
    {
     "name": "stdout",
     "output_type": "stream",
     "text": [
      "Found 4398 ROIs in activity matrix\n",
      "+ Good FOV! alf/FOV_04: 4398 ROIs, 19725 frames\n",
      "Checking FOV collection: alf/FOV_05\n",
      "Required datasets present: ROIActivity=True, times=True, badFrames=True, frameQC=True\n"
     ]
    },
    {
     "name": "stderr",
     "output_type": "stream",
     "text": [
      "(S3) C:\\Users\\Gugu\\Downloads\\ONE\\alyx.internationalbrainlab.org\\cortexlab\\Subjects\\SP061\\2024-11-13\\001\\alf\\FOV_05\\mpci.badFrames.npy: 100%|██████████| 19.9k/19.9k [00:00<00:00, 86.7kB/s]\n",
      "(S3) C:\\Users\\Gugu\\Downloads\\ONE\\alyx.internationalbrainlab.org\\cortexlab\\Subjects\\SP061\\2024-11-13\\001\\alf\\FOV_05\\mpci.mpciFrameQC.npy: 100%|██████████| 79.0k/79.0k [00:00<00:00, 223kB/s]\n",
      "(S3) C:\\Users\\Gugu\\Downloads\\ONE\\alyx.internationalbrainlab.org\\cortexlab\\Subjects\\SP061\\2024-11-13\\001\\alf\\FOV_05\\mpci.ROIActivityDeconvolved.npy: 100%|██████████| 269M/269M [00:08<00:00, 30.2MB/s] \n"
     ]
    },
    {
     "name": "stdout",
     "output_type": "stream",
     "text": [
      "Found 3406 ROIs in activity matrix\n",
      "+ Good FOV! alf/FOV_05: 3406 ROIs, 19725 frames\n",
      "Checking FOV collection: alf/FOV_06\n",
      "Required datasets present: ROIActivity=True, times=True, badFrames=True, frameQC=True\n"
     ]
    },
    {
     "name": "stderr",
     "output_type": "stream",
     "text": [
      "(S3) C:\\Users\\Gugu\\Downloads\\ONE\\alyx.internationalbrainlab.org\\cortexlab\\Subjects\\SP061\\2024-11-13\\001\\alf\\FOV_06\\mpci.badFrames.npy: 100%|██████████| 19.9k/19.9k [00:00<00:00, 94.1kB/s]\n",
      "(S3) C:\\Users\\Gugu\\Downloads\\ONE\\alyx.internationalbrainlab.org\\cortexlab\\Subjects\\SP061\\2024-11-13\\001\\alf\\FOV_06\\mpci.mpciFrameQC.npy: 100%|██████████| 79.0k/79.0k [00:00<00:00, 235kB/s]\n",
      "(S3) C:\\Users\\Gugu\\Downloads\\ONE\\alyx.internationalbrainlab.org\\cortexlab\\Subjects\\SP061\\2024-11-13\\001\\alf\\FOV_06\\mpci.ROIActivityDeconvolved.npy: 100%|██████████| 327M/327M [00:06<00:00, 47.2MB/s] \n"
     ]
    },
    {
     "name": "stdout",
     "output_type": "stream",
     "text": [
      "Found 4148 ROIs in activity matrix\n",
      "+ Good FOV! alf/FOV_06: 4148 ROIs, 19725 frames\n",
      "Checking FOV collection: alf/FOV_07\n",
      "Required datasets present: ROIActivity=True, times=True, badFrames=True, frameQC=True\n"
     ]
    },
    {
     "name": "stderr",
     "output_type": "stream",
     "text": [
      "(S3) C:\\Users\\Gugu\\Downloads\\ONE\\alyx.internationalbrainlab.org\\cortexlab\\Subjects\\SP061\\2024-11-13\\001\\alf\\FOV_07\\mpci.badFrames.npy: 100%|██████████| 19.9k/19.9k [00:00<00:00, 90.3kB/s]\n",
      "(S3) C:\\Users\\Gugu\\Downloads\\ONE\\alyx.internationalbrainlab.org\\cortexlab\\Subjects\\SP061\\2024-11-13\\001\\alf\\FOV_07\\mpci.mpciFrameQC.npy: 100%|██████████| 79.0k/79.0k [00:00<00:00, 215kB/s]\n",
      "(S3) C:\\Users\\Gugu\\Downloads\\ONE\\alyx.internationalbrainlab.org\\cortexlab\\Subjects\\SP061\\2024-11-13\\001\\alf\\FOV_07\\mpci.ROIActivityDeconvolved.npy: 100%|██████████| 257M/257M [00:06<00:00, 40.3MB/s] \n"
     ]
    },
    {
     "name": "stdout",
     "output_type": "stream",
     "text": [
      "Found 3255 ROIs in activity matrix\n",
      "+ Good FOV! alf/FOV_07: 3255 ROIs, 19725 frames\n",
      "+ Good session! SP061, 1.06 hours, 8 good FOVs, 27115 total ROIs\n",
      "\n",
      "Processing session 58/319 (ID: f249eeb6-f511-4771-8b4d-6cab99236d90)\n",
      "- Not biasedChoiceWorld or passiveChoiceWorld, skipping\n",
      "\n",
      "Processing session 59/319 (ID: af8ea8be-b9b2-474b-9302-e9e449b5e2d6)\n",
      "Session duration: 1.05 hours\n",
      "Found 8 FOV collections: ['alf/FOV_00', 'alf/FOV_01', 'alf/FOV_02', 'alf/FOV_03', 'alf/FOV_04', 'alf/FOV_05', 'alf/FOV_06', 'alf/FOV_07']\n",
      "Checking FOV collection: alf/FOV_00\n",
      "Required datasets present: ROIActivity=True, times=True, badFrames=True, frameQC=True\n"
     ]
    },
    {
     "name": "stderr",
     "output_type": "stream",
     "text": [
      "(S3) C:\\Users\\Gugu\\Downloads\\ONE\\alyx.internationalbrainlab.org\\cortexlab\\Subjects\\SP061\\2024-11-12\\001\\alf\\FOV_00\\mpci.badFrames.npy: 100%|██████████| 18.8k/18.8k [00:00<00:00, 90.2kB/s]\n",
      "(S3) C:\\Users\\Gugu\\Downloads\\ONE\\alyx.internationalbrainlab.org\\cortexlab\\Subjects\\SP061\\2024-11-12\\001\\alf\\FOV_00\\mpci.mpciFrameQC.npy: 100%|██████████| 74.8k/74.8k [00:00<00:00, 167kB/s]\n",
      "(S3) C:\\Users\\Gugu\\Downloads\\ONE\\alyx.internationalbrainlab.org\\cortexlab\\Subjects\\SP061\\2024-11-12\\001\\alf\\FOV_00\\mpci.ROIActivityDeconvolved.npy: 100%|██████████| 166M/166M [00:04<00:00, 40.6MB/s] \n"
     ]
    },
    {
     "name": "stdout",
     "output_type": "stream",
     "text": [
      "Found 2223 ROIs in activity matrix\n",
      "+ Good FOV! alf/FOV_00: 2223 ROIs, 18672 frames\n",
      "Checking FOV collection: alf/FOV_01\n",
      "Required datasets present: ROIActivity=True, times=True, badFrames=True, frameQC=True\n"
     ]
    },
    {
     "name": "stderr",
     "output_type": "stream",
     "text": [
      "(S3) C:\\Users\\Gugu\\Downloads\\ONE\\alyx.internationalbrainlab.org\\cortexlab\\Subjects\\SP061\\2024-11-12\\001\\alf\\FOV_01\\mpci.badFrames.npy: 100%|██████████| 18.8k/18.8k [00:00<00:00, 71.4kB/s]\n",
      "(S3) C:\\Users\\Gugu\\Downloads\\ONE\\alyx.internationalbrainlab.org\\cortexlab\\Subjects\\SP061\\2024-11-12\\001\\alf\\FOV_01\\mpci.mpciFrameQC.npy: 100%|██████████| 74.8k/74.8k [00:00<00:00, 217kB/s]\n",
      "(S3) C:\\Users\\Gugu\\Downloads\\ONE\\alyx.internationalbrainlab.org\\cortexlab\\Subjects\\SP061\\2024-11-12\\001\\alf\\FOV_01\\mpci.ROIActivityDeconvolved.npy: 100%|██████████| 84.9M/84.9M [00:02<00:00, 29.3MB/s]\n"
     ]
    },
    {
     "name": "stdout",
     "output_type": "stream",
     "text": [
      "Found 1137 ROIs in activity matrix\n",
      "+ Good FOV! alf/FOV_01: 1137 ROIs, 18672 frames\n",
      "Checking FOV collection: alf/FOV_02\n",
      "Required datasets present: ROIActivity=True, times=True, badFrames=True, frameQC=True\n"
     ]
    },
    {
     "name": "stderr",
     "output_type": "stream",
     "text": [
      "(S3) C:\\Users\\Gugu\\Downloads\\ONE\\alyx.internationalbrainlab.org\\cortexlab\\Subjects\\SP061\\2024-11-12\\001\\alf\\FOV_02\\mpci.badFrames.npy: 100%|██████████| 18.8k/18.8k [00:00<00:00, 76.0kB/s]\n",
      "(S3) C:\\Users\\Gugu\\Downloads\\ONE\\alyx.internationalbrainlab.org\\cortexlab\\Subjects\\SP061\\2024-11-12\\001\\alf\\FOV_02\\mpci.mpciFrameQC.npy: 100%|██████████| 74.8k/74.8k [00:00<00:00, 221kB/s]\n",
      "(S3) C:\\Users\\Gugu\\Downloads\\ONE\\alyx.internationalbrainlab.org\\cortexlab\\Subjects\\SP061\\2024-11-12\\001\\alf\\FOV_02\\mpci.ROIActivityDeconvolved.npy: 100%|██████████| 290M/290M [00:08<00:00, 34.3MB/s] \n"
     ]
    },
    {
     "name": "stdout",
     "output_type": "stream",
     "text": [
      "Found 3883 ROIs in activity matrix\n",
      "+ Good FOV! alf/FOV_02: 3883 ROIs, 18672 frames\n",
      "Checking FOV collection: alf/FOV_03\n",
      "Required datasets present: ROIActivity=True, times=True, badFrames=True, frameQC=True\n"
     ]
    },
    {
     "name": "stderr",
     "output_type": "stream",
     "text": [
      "(S3) C:\\Users\\Gugu\\Downloads\\ONE\\alyx.internationalbrainlab.org\\cortexlab\\Subjects\\SP061\\2024-11-12\\001\\alf\\FOV_03\\mpci.badFrames.npy: 100%|██████████| 18.8k/18.8k [00:00<00:00, 89.0kB/s]\n",
      "(S3) C:\\Users\\Gugu\\Downloads\\ONE\\alyx.internationalbrainlab.org\\cortexlab\\Subjects\\SP061\\2024-11-12\\001\\alf\\FOV_03\\mpci.mpciFrameQC.npy: 100%|██████████| 74.8k/74.8k [00:00<00:00, 215kB/s]\n",
      "(S3) C:\\Users\\Gugu\\Downloads\\ONE\\alyx.internationalbrainlab.org\\cortexlab\\Subjects\\SP061\\2024-11-12\\001\\alf\\FOV_03\\mpci.ROIActivityDeconvolved.npy: 100%|██████████| 296M/296M [00:07<00:00, 39.7MB/s] \n"
     ]
    },
    {
     "name": "stdout",
     "output_type": "stream",
     "text": [
      "Found 3957 ROIs in activity matrix\n",
      "+ Good FOV! alf/FOV_03: 3957 ROIs, 18672 frames\n",
      "Checking FOV collection: alf/FOV_04\n",
      "Required datasets present: ROIActivity=True, times=True, badFrames=True, frameQC=True\n"
     ]
    },
    {
     "name": "stderr",
     "output_type": "stream",
     "text": [
      "(S3) C:\\Users\\Gugu\\Downloads\\ONE\\alyx.internationalbrainlab.org\\cortexlab\\Subjects\\SP061\\2024-11-12\\001\\alf\\FOV_04\\mpci.badFrames.npy: 100%|██████████| 18.8k/18.8k [00:00<00:00, 83.1kB/s]\n",
      "(S3) C:\\Users\\Gugu\\Downloads\\ONE\\alyx.internationalbrainlab.org\\cortexlab\\Subjects\\SP061\\2024-11-12\\001\\alf\\FOV_04\\mpci.mpciFrameQC.npy: 100%|██████████| 74.8k/74.8k [00:00<00:00, 209kB/s]\n",
      "(S3) C:\\Users\\Gugu\\Downloads\\ONE\\alyx.internationalbrainlab.org\\cortexlab\\Subjects\\SP061\\2024-11-12\\001\\alf\\FOV_04\\mpci.ROIActivityDeconvolved.npy: 100%|██████████| 324M/324M [00:08<00:00, 40.1MB/s] \n"
     ]
    },
    {
     "name": "stdout",
     "output_type": "stream",
     "text": [
      "Found 4336 ROIs in activity matrix\n",
      "+ Good FOV! alf/FOV_04: 4336 ROIs, 18672 frames\n",
      "Checking FOV collection: alf/FOV_05\n",
      "Required datasets present: ROIActivity=True, times=True, badFrames=True, frameQC=True\n"
     ]
    },
    {
     "name": "stderr",
     "output_type": "stream",
     "text": [
      "(S3) C:\\Users\\Gugu\\Downloads\\ONE\\alyx.internationalbrainlab.org\\cortexlab\\Subjects\\SP061\\2024-11-12\\001\\alf\\FOV_05\\mpci.badFrames.npy: 100%|██████████| 18.8k/18.8k [00:00<00:00, 79.1kB/s]\n",
      "(S3) C:\\Users\\Gugu\\Downloads\\ONE\\alyx.internationalbrainlab.org\\cortexlab\\Subjects\\SP061\\2024-11-12\\001\\alf\\FOV_05\\mpci.mpciFrameQC.npy: 100%|██████████| 74.8k/74.8k [00:00<00:00, 221kB/s]\n",
      "(S3) C:\\Users\\Gugu\\Downloads\\ONE\\alyx.internationalbrainlab.org\\cortexlab\\Subjects\\SP061\\2024-11-12\\001\\alf\\FOV_05\\mpci.ROIActivityDeconvolved.npy: 100%|██████████| 185M/185M [00:04<00:00, 37.8MB/s] \n"
     ]
    },
    {
     "name": "stdout",
     "output_type": "stream",
     "text": [
      "Found 2479 ROIs in activity matrix\n",
      "+ Good FOV! alf/FOV_05: 2479 ROIs, 18672 frames\n",
      "Checking FOV collection: alf/FOV_06\n",
      "Required datasets present: ROIActivity=True, times=True, badFrames=True, frameQC=True\n"
     ]
    },
    {
     "name": "stderr",
     "output_type": "stream",
     "text": [
      "(S3) C:\\Users\\Gugu\\Downloads\\ONE\\alyx.internationalbrainlab.org\\cortexlab\\Subjects\\SP061\\2024-11-12\\001\\alf\\FOV_06\\mpci.badFrames.npy: 100%|██████████| 18.8k/18.8k [00:00<00:00, 81.7kB/s]\n",
      "(S3) C:\\Users\\Gugu\\Downloads\\ONE\\alyx.internationalbrainlab.org\\cortexlab\\Subjects\\SP061\\2024-11-12\\001\\alf\\FOV_06\\mpci.mpciFrameQC.npy: 100%|██████████| 74.8k/74.8k [00:00<00:00, 203kB/s]\n",
      "(S3) C:\\Users\\Gugu\\Downloads\\ONE\\alyx.internationalbrainlab.org\\cortexlab\\Subjects\\SP061\\2024-11-12\\001\\alf\\FOV_06\\mpci.ROIActivityDeconvolved.npy: 100%|██████████| 292M/292M [00:09<00:00, 32.1MB/s] \n"
     ]
    },
    {
     "name": "stdout",
     "output_type": "stream",
     "text": [
      "Found 3906 ROIs in activity matrix\n",
      "+ Good FOV! alf/FOV_06: 3906 ROIs, 18672 frames\n",
      "Checking FOV collection: alf/FOV_07\n",
      "Required datasets present: ROIActivity=True, times=True, badFrames=True, frameQC=True\n"
     ]
    },
    {
     "name": "stderr",
     "output_type": "stream",
     "text": [
      "(S3) C:\\Users\\Gugu\\Downloads\\ONE\\alyx.internationalbrainlab.org\\cortexlab\\Subjects\\SP061\\2024-11-12\\001\\alf\\FOV_07\\mpci.badFrames.npy: 100%|██████████| 18.8k/18.8k [00:00<00:00, 78.6kB/s]\n",
      "(S3) C:\\Users\\Gugu\\Downloads\\ONE\\alyx.internationalbrainlab.org\\cortexlab\\Subjects\\SP061\\2024-11-12\\001\\alf\\FOV_07\\mpci.mpciFrameQC.npy: 100%|██████████| 74.8k/74.8k [00:00<00:00, 180kB/s]\n",
      "(S3) C:\\Users\\Gugu\\Downloads\\ONE\\alyx.internationalbrainlab.org\\cortexlab\\Subjects\\SP061\\2024-11-12\\001\\alf\\FOV_07\\mpci.ROIActivityDeconvolved.npy: 100%|██████████| 222M/222M [00:06<00:00, 32.8MB/s] \n"
     ]
    },
    {
     "name": "stdout",
     "output_type": "stream",
     "text": [
      "Found 2977 ROIs in activity matrix\n",
      "+ Good FOV! alf/FOV_07: 2977 ROIs, 18672 frames\n",
      "+ Good session! SP061, 1.05 hours, 8 good FOVs, 24898 total ROIs\n",
      "\n",
      "Processing session 60/319 (ID: 43ed4326-9b2e-4260-ba24-2757edb459a9)\n",
      "- Not biasedChoiceWorld or passiveChoiceWorld, skipping\n",
      "\n",
      "Processing session 61/319 (ID: 1c682c4a-d7a5-4792-89f9-53d7e9d3cf89)\n",
      "- Not biasedChoiceWorld or passiveChoiceWorld, skipping\n",
      "\n",
      "Processing session 62/319 (ID: 00fbcc3f-9ee1-4993-9f94-ce8be232752c)\n",
      "Session duration: 1.20 hours\n",
      "Found 8 FOV collections: ['alf/FOV_00', 'alf/FOV_01', 'alf/FOV_02', 'alf/FOV_03', 'alf/FOV_04', 'alf/FOV_05', 'alf/FOV_06', 'alf/FOV_07']\n",
      "Checking FOV collection: alf/FOV_00\n",
      "Required datasets present: ROIActivity=True, times=True, badFrames=True, frameQC=True\n"
     ]
    },
    {
     "name": "stderr",
     "output_type": "stream",
     "text": [
      "(S3) C:\\Users\\Gugu\\Downloads\\ONE\\alyx.internationalbrainlab.org\\cortexlab\\Subjects\\SP061\\2024-11-08\\001\\alf\\FOV_00\\mpci.badFrames.npy: 100%|██████████| 20.3k/20.3k [00:00<00:00, 71.3kB/s]\n",
      "(S3) C:\\Users\\Gugu\\Downloads\\ONE\\alyx.internationalbrainlab.org\\cortexlab\\Subjects\\SP061\\2024-11-08\\001\\alf\\FOV_00\\mpci.mpciFrameQC.npy: 100%|██████████| 80.8k/80.8k [00:00<00:00, 188kB/s]\n",
      "(S3) C:\\Users\\Gugu\\Downloads\\ONE\\alyx.internationalbrainlab.org\\cortexlab\\Subjects\\SP061\\2024-11-08\\001\\alf\\FOV_00\\mpci.ROIActivityDeconvolved.npy: 100%|██████████| 391M/391M [00:11<00:00, 32.9MB/s] \n"
     ]
    },
    {
     "name": "stdout",
     "output_type": "stream",
     "text": [
      "Found 4848 ROIs in activity matrix\n",
      "+ Good FOV! alf/FOV_00: 4848 ROIs, 20164 frames\n",
      "Checking FOV collection: alf/FOV_01\n",
      "Required datasets present: ROIActivity=True, times=True, badFrames=True, frameQC=True\n"
     ]
    },
    {
     "name": "stderr",
     "output_type": "stream",
     "text": [
      "(S3) C:\\Users\\Gugu\\Downloads\\ONE\\alyx.internationalbrainlab.org\\cortexlab\\Subjects\\SP061\\2024-11-08\\001\\alf\\FOV_01\\mpci.badFrames.npy: 100%|██████████| 20.3k/20.3k [00:00<00:00, 94.1kB/s]\n",
      "(S3) C:\\Users\\Gugu\\Downloads\\ONE\\alyx.internationalbrainlab.org\\cortexlab\\Subjects\\SP061\\2024-11-08\\001\\alf\\FOV_01\\mpci.mpciFrameQC.npy: 100%|██████████| 80.8k/80.8k [00:00<00:00, 172kB/s]\n",
      "(S3) C:\\Users\\Gugu\\Downloads\\ONE\\alyx.internationalbrainlab.org\\cortexlab\\Subjects\\SP061\\2024-11-08\\001\\alf\\FOV_01\\mpci.ROIActivityDeconvolved.npy: 100%|██████████| 181M/181M [00:06<00:00, 27.9MB/s] \n"
     ]
    },
    {
     "ename": "KeyboardInterrupt",
     "evalue": "",
     "output_type": "error",
     "traceback": [
      "\u001b[31m---------------------------------------------------------------------------\u001b[39m",
      "\u001b[31mKeyboardInterrupt\u001b[39m                         Traceback (most recent call last)",
      "\u001b[36mCell\u001b[39m\u001b[36m \u001b[39m\u001b[32mIn[92]\u001b[39m\u001b[32m, line 138\u001b[39m\n\u001b[32m    134\u001b[39m \u001b[38;5;66;03m# For ROI count, we'll use a less data-intensive approach\u001b[39;00m\n\u001b[32m    135\u001b[39m \u001b[38;5;66;03m# Just load the ROI Activity shape to get the count\u001b[39;00m\n\u001b[32m    136\u001b[39m \u001b[38;5;28;01mtry\u001b[39;00m:\n\u001b[32m    137\u001b[39m     \u001b[38;5;66;03m# This will only load the array metadata, not the full array\u001b[39;00m\n\u001b[32m--> \u001b[39m\u001b[32m138\u001b[39m     roi_activity = \u001b[43mone\u001b[49m\u001b[43m.\u001b[49m\u001b[43mload_dataset\u001b[49m\u001b[43m(\u001b[49m\u001b[43meid\u001b[49m\u001b[43m,\u001b[49m\u001b[43m \u001b[49m\u001b[33;43m'\u001b[39;49m\u001b[33;43mmpci.ROIActivityDeconvolved\u001b[39;49m\u001b[33;43m'\u001b[39;49m\u001b[43m,\u001b[49m\u001b[43m \u001b[49m\u001b[43mcollection\u001b[49m\u001b[43m=\u001b[49m\u001b[43mcollection\u001b[49m\u001b[43m)\u001b[49m\n\u001b[32m    139\u001b[39m     roi_count = roi_activity.shape[\u001b[32m1\u001b[39m]  \u001b[38;5;66;03m# Number of columns = number of ROIs\u001b[39;00m\n\u001b[32m    140\u001b[39m     \u001b[38;5;28mprint\u001b[39m(\u001b[33mf\u001b[39m\u001b[33m\"\u001b[39m\u001b[33mFound \u001b[39m\u001b[38;5;132;01m{\u001b[39;00mroi_count\u001b[38;5;132;01m}\u001b[39;00m\u001b[33m ROIs in activity matrix\u001b[39m\u001b[33m\"\u001b[39m)\n",
      "\u001b[36mFile \u001b[39m\u001b[32mc:\\Users\\Gugu\\Desktop\\UCL\\Thesis\\Experiments\\IBL_Neuropixels\\ibl_env\\Lib\\site-packages\\one\\util.py:47\u001b[39m, in \u001b[36mparse_id.<locals>.wrapper\u001b[39m\u001b[34m(self, id, *args, **kwargs)\u001b[39m\n\u001b[32m     45\u001b[39m \u001b[38;5;28;01mif\u001b[39;00m eid \u001b[38;5;129;01mis\u001b[39;00m \u001b[38;5;28;01mNone\u001b[39;00m:\n\u001b[32m     46\u001b[39m     \u001b[38;5;28;01mraise\u001b[39;00m \u001b[38;5;167;01mValueError\u001b[39;00m(\u001b[33mf\u001b[39m\u001b[33m'\u001b[39m\u001b[33mCannot parse session ID \u001b[39m\u001b[33m\"\u001b[39m\u001b[38;5;132;01m{\u001b[39;00m\u001b[38;5;28mid\u001b[39m\u001b[38;5;132;01m}\u001b[39;00m\u001b[33m\"\u001b[39m\u001b[33m (session may not exist)\u001b[39m\u001b[33m'\u001b[39m)\n\u001b[32m---> \u001b[39m\u001b[32m47\u001b[39m \u001b[38;5;28;01mreturn\u001b[39;00m \u001b[43mmethod\u001b[49m\u001b[43m(\u001b[49m\u001b[38;5;28;43mself\u001b[39;49m\u001b[43m,\u001b[49m\u001b[43m \u001b[49m\u001b[43meid\u001b[49m\u001b[43m,\u001b[49m\u001b[43m \u001b[49m\u001b[43m*\u001b[49m\u001b[43margs\u001b[49m\u001b[43m,\u001b[49m\u001b[43m \u001b[49m\u001b[43m*\u001b[49m\u001b[43m*\u001b[49m\u001b[43mkwargs\u001b[49m\u001b[43m)\u001b[49m\n",
      "\u001b[36mFile \u001b[39m\u001b[32mc:\\Users\\Gugu\\Desktop\\UCL\\Thesis\\Experiments\\IBL_Neuropixels\\ibl_env\\Lib\\site-packages\\one\\api.py:1161\u001b[39m, in \u001b[36mOne.load_dataset\u001b[39m\u001b[34m(self, eid, dataset, collection, revision, query_type, download_only, check_hash)\u001b[39m\n\u001b[32m   1159\u001b[39m \u001b[38;5;66;03m# Check files exist / download remote files\u001b[39;00m\n\u001b[32m   1160\u001b[39m offline = \u001b[38;5;28mself\u001b[39m.mode == \u001b[33m'\u001b[39m\u001b[33mlocal\u001b[39m\u001b[33m'\u001b[39m\n\u001b[32m-> \u001b[39m\u001b[32m1161\u001b[39m file, = \u001b[38;5;28;43mself\u001b[39;49m\u001b[43m.\u001b[49m\u001b[43m_check_filesystem\u001b[49m\u001b[43m(\u001b[49m\u001b[43mdatasets\u001b[49m\u001b[43m,\u001b[49m\u001b[43m \u001b[49m\u001b[43moffline\u001b[49m\u001b[43m=\u001b[49m\u001b[43moffline\u001b[49m\u001b[43m,\u001b[49m\u001b[43m \u001b[49m\u001b[43mcheck_hash\u001b[49m\u001b[43m=\u001b[49m\u001b[43mcheck_hash\u001b[49m\u001b[43m)\u001b[49m\n\u001b[32m   1163\u001b[39m \u001b[38;5;28;01mif\u001b[39;00m \u001b[38;5;129;01mnot\u001b[39;00m file:\n\u001b[32m   1164\u001b[39m     \u001b[38;5;28;01mraise\u001b[39;00m alferr.ALFObjectNotFound(\u001b[33m'\u001b[39m\u001b[33mDataset not found\u001b[39m\u001b[33m'\u001b[39m)\n",
      "\u001b[36mFile \u001b[39m\u001b[32mc:\\Users\\Gugu\\Desktop\\UCL\\Thesis\\Experiments\\IBL_Neuropixels\\ibl_env\\Lib\\site-packages\\one\\api.py:656\u001b[39m, in \u001b[36mOne._check_filesystem\u001b[39m\u001b[34m(self, datasets, offline, update_exists, check_hash)\u001b[39m\n\u001b[32m    654\u001b[39m dsets_to_download = datasets.loc[indices_to_download]\n\u001b[32m    655\u001b[39m \u001b[38;5;66;03m# Returns list of local file paths and set to variable\u001b[39;00m\n\u001b[32m--> \u001b[39m\u001b[32m656\u001b[39m new_files = \u001b[38;5;28;43mself\u001b[39;49m\u001b[43m.\u001b[49m\u001b[43m_download_datasets\u001b[49m\u001b[43m(\u001b[49m\u001b[43mdsets_to_download\u001b[49m\u001b[43m,\u001b[49m\u001b[43m \u001b[49m\u001b[43mupdate_cache\u001b[49m\u001b[43m=\u001b[49m\u001b[43mupdate_exists\u001b[49m\u001b[43m)\u001b[49m\n\u001b[32m    657\u001b[39m \u001b[38;5;66;03m# Add each downloaded file to the output list of files\u001b[39;00m\n\u001b[32m    658\u001b[39m \u001b[38;5;28;01mfor\u001b[39;00m i, file \u001b[38;5;129;01min\u001b[39;00m \u001b[38;5;28mzip\u001b[39m(indices_to_download, new_files):\n",
      "\u001b[36mFile \u001b[39m\u001b[32mc:\\Users\\Gugu\\Desktop\\UCL\\Thesis\\Experiments\\IBL_Neuropixels\\ibl_env\\Lib\\site-packages\\one\\api.py:2380\u001b[39m, in \u001b[36mOneAlyx._download_datasets\u001b[39m\u001b[34m(self, dsets, **kwargs)\u001b[39m\n\u001b[32m   2378\u001b[39m \u001b[38;5;28;01massert\u001b[39;00m \u001b[33m'\u001b[39m\u001b[33mexists_aws\u001b[39m\u001b[33m'\u001b[39m \u001b[38;5;129;01mnot\u001b[39;00m \u001b[38;5;129;01min\u001b[39;00m dsets \u001b[38;5;129;01mor\u001b[39;00m np.all(np.equal(dsets[\u001b[33m'\u001b[39m\u001b[33mexists_aws\u001b[39m\u001b[33m'\u001b[39m].values, \u001b[38;5;28;01mTrue\u001b[39;00m))\n\u001b[32m   2379\u001b[39m _logger.debug(\u001b[33m'\u001b[39m\u001b[33mDownloading from AWS\u001b[39m\u001b[33m'\u001b[39m)\n\u001b[32m-> \u001b[39m\u001b[32m2380\u001b[39m files = \u001b[38;5;28;43mself\u001b[39;49m\u001b[43m.\u001b[49m\u001b[43m_download_aws\u001b[49m\u001b[43m(\u001b[49m\u001b[38;5;28;43mmap\u001b[39;49m\u001b[43m(\u001b[49m\u001b[38;5;28;43;01mlambda\u001b[39;49;00m\u001b[43m \u001b[49m\u001b[43mx\u001b[49m\u001b[43m:\u001b[49m\u001b[43m \u001b[49m\u001b[43mx\u001b[49m\u001b[43m[\u001b[49m\u001b[32;43m1\u001b[39;49m\u001b[43m]\u001b[49m\u001b[43m,\u001b[49m\u001b[43m \u001b[49m\u001b[43mdsets\u001b[49m\u001b[43m.\u001b[49m\u001b[43miterrows\u001b[49m\u001b[43m(\u001b[49m\u001b[43m)\u001b[49m\u001b[43m)\u001b[49m\u001b[43m,\u001b[49m\u001b[43m \u001b[49m\u001b[43m*\u001b[49m\u001b[43m*\u001b[49m\u001b[43mkwargs\u001b[49m\u001b[43m)\u001b[49m\n\u001b[32m   2381\u001b[39m \u001b[38;5;66;03m# Trigger fallback download of any files missing on AWS\u001b[39;00m\n\u001b[32m   2382\u001b[39m \u001b[38;5;28;01massert\u001b[39;00m \u001b[38;5;28mall\u001b[39m(files), \u001b[33mf\u001b[39m\u001b[33m'\u001b[39m\u001b[38;5;132;01m{\u001b[39;00m\u001b[38;5;28msum\u001b[39m(\u001b[38;5;28mmap\u001b[39m(\u001b[38;5;28mbool\u001b[39m,\u001b[38;5;250m \u001b[39mfiles))\u001b[38;5;132;01m}\u001b[39;00m\u001b[33m datasets not found on AWS\u001b[39m\u001b[33m'\u001b[39m\n",
      "\u001b[36mFile \u001b[39m\u001b[32mc:\\Users\\Gugu\\Desktop\\UCL\\Thesis\\Experiments\\IBL_Neuropixels\\ibl_env\\Lib\\site-packages\\one\\api.py:2454\u001b[39m, in \u001b[36mOneAlyx._download_aws\u001b[39m\u001b[34m(self, dsets, update_exists, keep_uuid, **_)\u001b[39m\n\u001b[32m   2452\u001b[39m         local_path = alfiles.add_uuid_string(local_path, uuid)\n\u001b[32m   2453\u001b[39m     local_path.parent.mkdir(exist_ok=\u001b[38;5;28;01mTrue\u001b[39;00m, parents=\u001b[38;5;28;01mTrue\u001b[39;00m)\n\u001b[32m-> \u001b[39m\u001b[32m2454\u001b[39m     out_files.append(\u001b[43maws\u001b[49m\u001b[43m.\u001b[49m\u001b[43ms3_download_file\u001b[49m\u001b[43m(\u001b[49m\n\u001b[32m   2455\u001b[39m \u001b[43m        \u001b[49m\u001b[43msource_path\u001b[49m\u001b[43m,\u001b[49m\u001b[43m \u001b[49m\u001b[43mlocal_path\u001b[49m\u001b[43m,\u001b[49m\u001b[43m \u001b[49m\u001b[43ms3\u001b[49m\u001b[43m=\u001b[49m\u001b[43ms3\u001b[49m\u001b[43m,\u001b[49m\u001b[43m \u001b[49m\u001b[43mbucket_name\u001b[49m\u001b[43m=\u001b[49m\u001b[43mbucket_name\u001b[49m\u001b[43m,\u001b[49m\u001b[43m \u001b[49m\u001b[43moverwrite\u001b[49m\u001b[43m=\u001b[49m\u001b[43mupdate_exists\u001b[49m\u001b[43m)\u001b[49m)\n\u001b[32m   2456\u001b[39m \u001b[38;5;28;01mreturn\u001b[39;00m [ALFPath(x) \u001b[38;5;28;01mif\u001b[39;00m x \u001b[38;5;28;01melse\u001b[39;00m x \u001b[38;5;28;01mfor\u001b[39;00m x \u001b[38;5;129;01min\u001b[39;00m out_files]\n",
      "\u001b[36mFile \u001b[39m\u001b[32mc:\\Users\\Gugu\\Desktop\\UCL\\Thesis\\Experiments\\IBL_Neuropixels\\ibl_env\\Lib\\site-packages\\one\\remote\\aws.py:260\u001b[39m, in \u001b[36ms3_download_file\u001b[39m\u001b[34m(source, destination, s3, bucket_name, overwrite)\u001b[39m\n\u001b[32m    257\u001b[39m         \u001b[38;5;28;01mreturn\u001b[39;00m destination\n\u001b[32m    258\u001b[39m     \u001b[38;5;28;01mwith\u001b[39;00m tqdm(total=filesize, unit=\u001b[33m'\u001b[39m\u001b[33mB\u001b[39m\u001b[33m'\u001b[39m,\n\u001b[32m    259\u001b[39m               unit_scale=\u001b[38;5;28;01mTrue\u001b[39;00m, desc=\u001b[33mf\u001b[39m\u001b[33m'\u001b[39m\u001b[33m(S3) \u001b[39m\u001b[38;5;132;01m{\u001b[39;00mdestination\u001b[38;5;132;01m}\u001b[39;00m\u001b[33m'\u001b[39m) \u001b[38;5;28;01mas\u001b[39;00m t:\n\u001b[32m--> \u001b[39m\u001b[32m260\u001b[39m         \u001b[43mfile_object\u001b[49m\u001b[43m.\u001b[49m\u001b[43mdownload_file\u001b[49m\u001b[43m(\u001b[49m\u001b[43mFilename\u001b[49m\u001b[43m=\u001b[49m\u001b[38;5;28;43mstr\u001b[39;49m\u001b[43m(\u001b[49m\u001b[43mdestination\u001b[49m\u001b[43m)\u001b[49m\u001b[43m,\u001b[49m\u001b[43m \u001b[49m\u001b[43mCallback\u001b[49m\u001b[43m=\u001b[49m\u001b[43m_callback_hook\u001b[49m\u001b[43m(\u001b[49m\u001b[43mt\u001b[49m\u001b[43m)\u001b[49m\u001b[43m)\u001b[49m\n\u001b[32m    261\u001b[39m \u001b[38;5;28;01mexcept\u001b[39;00m (NoCredentialsError, PartialCredentialsError) \u001b[38;5;28;01mas\u001b[39;00m ex:\n\u001b[32m    262\u001b[39m     \u001b[38;5;28;01mraise\u001b[39;00m ex  \u001b[38;5;66;03m# Credentials need updating in Alyx # pragma: no cover\u001b[39;00m\n",
      "\u001b[36mFile \u001b[39m\u001b[32mc:\\Users\\Gugu\\Desktop\\UCL\\Thesis\\Experiments\\IBL_Neuropixels\\ibl_env\\Lib\\site-packages\\boto3\\s3\\inject.py:392\u001b[39m, in \u001b[36mobject_download_file\u001b[39m\u001b[34m(self, Filename, ExtraArgs, Callback, Config)\u001b[39m\n\u001b[32m    361\u001b[39m \u001b[38;5;28;01mdef\u001b[39;00m\u001b[38;5;250m \u001b[39m\u001b[34mobject_download_file\u001b[39m(\n\u001b[32m    362\u001b[39m     \u001b[38;5;28mself\u001b[39m, Filename, ExtraArgs=\u001b[38;5;28;01mNone\u001b[39;00m, Callback=\u001b[38;5;28;01mNone\u001b[39;00m, Config=\u001b[38;5;28;01mNone\u001b[39;00m\n\u001b[32m    363\u001b[39m ):\n\u001b[32m    364\u001b[39m \u001b[38;5;250m    \u001b[39m\u001b[33;03m\"\"\"Download an S3 object to a file.\u001b[39;00m\n\u001b[32m    365\u001b[39m \n\u001b[32m    366\u001b[39m \u001b[33;03m    Usage::\u001b[39;00m\n\u001b[32m   (...)\u001b[39m\u001b[32m    390\u001b[39m \u001b[33;03m        transfer.\u001b[39;00m\n\u001b[32m    391\u001b[39m \u001b[33;03m    \"\"\"\u001b[39;00m\n\u001b[32m--> \u001b[39m\u001b[32m392\u001b[39m     \u001b[38;5;28;01mreturn\u001b[39;00m \u001b[38;5;28;43mself\u001b[39;49m\u001b[43m.\u001b[49m\u001b[43mmeta\u001b[49m\u001b[43m.\u001b[49m\u001b[43mclient\u001b[49m\u001b[43m.\u001b[49m\u001b[43mdownload_file\u001b[49m\u001b[43m(\u001b[49m\n\u001b[32m    393\u001b[39m \u001b[43m        \u001b[49m\u001b[43mBucket\u001b[49m\u001b[43m=\u001b[49m\u001b[38;5;28;43mself\u001b[39;49m\u001b[43m.\u001b[49m\u001b[43mbucket_name\u001b[49m\u001b[43m,\u001b[49m\n\u001b[32m    394\u001b[39m \u001b[43m        \u001b[49m\u001b[43mKey\u001b[49m\u001b[43m=\u001b[49m\u001b[38;5;28;43mself\u001b[39;49m\u001b[43m.\u001b[49m\u001b[43mkey\u001b[49m\u001b[43m,\u001b[49m\n\u001b[32m    395\u001b[39m \u001b[43m        \u001b[49m\u001b[43mFilename\u001b[49m\u001b[43m=\u001b[49m\u001b[43mFilename\u001b[49m\u001b[43m,\u001b[49m\n\u001b[32m    396\u001b[39m \u001b[43m        \u001b[49m\u001b[43mExtraArgs\u001b[49m\u001b[43m=\u001b[49m\u001b[43mExtraArgs\u001b[49m\u001b[43m,\u001b[49m\n\u001b[32m    397\u001b[39m \u001b[43m        \u001b[49m\u001b[43mCallback\u001b[49m\u001b[43m=\u001b[49m\u001b[43mCallback\u001b[49m\u001b[43m,\u001b[49m\n\u001b[32m    398\u001b[39m \u001b[43m        \u001b[49m\u001b[43mConfig\u001b[49m\u001b[43m=\u001b[49m\u001b[43mConfig\u001b[49m\u001b[43m,\u001b[49m\n\u001b[32m    399\u001b[39m \u001b[43m    \u001b[49m\u001b[43m)\u001b[49m\n",
      "\u001b[36mFile \u001b[39m\u001b[32mc:\\Users\\Gugu\\Desktop\\UCL\\Thesis\\Experiments\\IBL_Neuropixels\\ibl_env\\Lib\\site-packages\\botocore\\context.py:124\u001b[39m, in \u001b[36mwith_current_context.<locals>.decorator.<locals>.wrapper\u001b[39m\u001b[34m(*args, **kwargs)\u001b[39m\n\u001b[32m    122\u001b[39m \u001b[38;5;28;01mif\u001b[39;00m hook:\n\u001b[32m    123\u001b[39m     hook()\n\u001b[32m--> \u001b[39m\u001b[32m124\u001b[39m \u001b[38;5;28;01mreturn\u001b[39;00m \u001b[43mfunc\u001b[49m\u001b[43m(\u001b[49m\u001b[43m*\u001b[49m\u001b[43margs\u001b[49m\u001b[43m,\u001b[49m\u001b[43m \u001b[49m\u001b[43m*\u001b[49m\u001b[43m*\u001b[49m\u001b[43mkwargs\u001b[49m\u001b[43m)\u001b[49m\n",
      "\u001b[36mFile \u001b[39m\u001b[32mc:\\Users\\Gugu\\Desktop\\UCL\\Thesis\\Experiments\\IBL_Neuropixels\\ibl_env\\Lib\\site-packages\\boto3\\s3\\inject.py:223\u001b[39m, in \u001b[36mdownload_file\u001b[39m\u001b[34m(self, Bucket, Key, Filename, ExtraArgs, Callback, Config)\u001b[39m\n\u001b[32m    188\u001b[39m \u001b[38;5;250m\u001b[39m\u001b[33;03m\"\"\"Download an S3 object to a file.\u001b[39;00m\n\u001b[32m    189\u001b[39m \n\u001b[32m    190\u001b[39m \u001b[33;03mUsage::\u001b[39;00m\n\u001b[32m   (...)\u001b[39m\u001b[32m    220\u001b[39m \u001b[33;03m    transfer.\u001b[39;00m\n\u001b[32m    221\u001b[39m \u001b[33;03m\"\"\"\u001b[39;00m\n\u001b[32m    222\u001b[39m \u001b[38;5;28;01mwith\u001b[39;00m S3Transfer(\u001b[38;5;28mself\u001b[39m, Config) \u001b[38;5;28;01mas\u001b[39;00m transfer:\n\u001b[32m--> \u001b[39m\u001b[32m223\u001b[39m     \u001b[38;5;28;01mreturn\u001b[39;00m \u001b[43mtransfer\u001b[49m\u001b[43m.\u001b[49m\u001b[43mdownload_file\u001b[49m\u001b[43m(\u001b[49m\n\u001b[32m    224\u001b[39m \u001b[43m        \u001b[49m\u001b[43mbucket\u001b[49m\u001b[43m=\u001b[49m\u001b[43mBucket\u001b[49m\u001b[43m,\u001b[49m\n\u001b[32m    225\u001b[39m \u001b[43m        \u001b[49m\u001b[43mkey\u001b[49m\u001b[43m=\u001b[49m\u001b[43mKey\u001b[49m\u001b[43m,\u001b[49m\n\u001b[32m    226\u001b[39m \u001b[43m        \u001b[49m\u001b[43mfilename\u001b[49m\u001b[43m=\u001b[49m\u001b[43mFilename\u001b[49m\u001b[43m,\u001b[49m\n\u001b[32m    227\u001b[39m \u001b[43m        \u001b[49m\u001b[43mextra_args\u001b[49m\u001b[43m=\u001b[49m\u001b[43mExtraArgs\u001b[49m\u001b[43m,\u001b[49m\n\u001b[32m    228\u001b[39m \u001b[43m        \u001b[49m\u001b[43mcallback\u001b[49m\u001b[43m=\u001b[49m\u001b[43mCallback\u001b[49m\u001b[43m,\u001b[49m\n\u001b[32m    229\u001b[39m \u001b[43m    \u001b[49m\u001b[43m)\u001b[49m\n",
      "\u001b[36mFile \u001b[39m\u001b[32mc:\\Users\\Gugu\\Desktop\\UCL\\Thesis\\Experiments\\IBL_Neuropixels\\ibl_env\\Lib\\site-packages\\boto3\\s3\\transfer.py:406\u001b[39m, in \u001b[36mS3Transfer.download_file\u001b[39m\u001b[34m(self, bucket, key, filename, extra_args, callback)\u001b[39m\n\u001b[32m    402\u001b[39m future = \u001b[38;5;28mself\u001b[39m._manager.download(\n\u001b[32m    403\u001b[39m     bucket, key, filename, extra_args, subscribers\n\u001b[32m    404\u001b[39m )\n\u001b[32m    405\u001b[39m \u001b[38;5;28;01mtry\u001b[39;00m:\n\u001b[32m--> \u001b[39m\u001b[32m406\u001b[39m     \u001b[43mfuture\u001b[49m\u001b[43m.\u001b[49m\u001b[43mresult\u001b[49m\u001b[43m(\u001b[49m\u001b[43m)\u001b[49m\n\u001b[32m    407\u001b[39m \u001b[38;5;66;03m# This is for backwards compatibility where when retries are\u001b[39;00m\n\u001b[32m    408\u001b[39m \u001b[38;5;66;03m# exceeded we need to throw the same error from boto3 instead of\u001b[39;00m\n\u001b[32m    409\u001b[39m \u001b[38;5;66;03m# s3transfer's built in RetriesExceededError as current users are\u001b[39;00m\n\u001b[32m    410\u001b[39m \u001b[38;5;66;03m# catching the boto3 one instead of the s3transfer exception to do\u001b[39;00m\n\u001b[32m    411\u001b[39m \u001b[38;5;66;03m# their own retries.\u001b[39;00m\n\u001b[32m    412\u001b[39m \u001b[38;5;28;01mexcept\u001b[39;00m S3TransferRetriesExceededError \u001b[38;5;28;01mas\u001b[39;00m e:\n",
      "\u001b[36mFile \u001b[39m\u001b[32mc:\\Users\\Gugu\\Desktop\\UCL\\Thesis\\Experiments\\IBL_Neuropixels\\ibl_env\\Lib\\site-packages\\s3transfer\\futures.py:114\u001b[39m, in \u001b[36mTransferFuture.result\u001b[39m\u001b[34m(self)\u001b[39m\n\u001b[32m    112\u001b[39m \u001b[38;5;28;01mexcept\u001b[39;00m \u001b[38;5;167;01mKeyboardInterrupt\u001b[39;00m \u001b[38;5;28;01mas\u001b[39;00m e:\n\u001b[32m    113\u001b[39m     \u001b[38;5;28mself\u001b[39m.cancel()\n\u001b[32m--> \u001b[39m\u001b[32m114\u001b[39m     \u001b[38;5;28;01mraise\u001b[39;00m e\n",
      "\u001b[36mFile \u001b[39m\u001b[32mc:\\Users\\Gugu\\Desktop\\UCL\\Thesis\\Experiments\\IBL_Neuropixels\\ibl_env\\Lib\\site-packages\\s3transfer\\futures.py:111\u001b[39m, in \u001b[36mTransferFuture.result\u001b[39m\u001b[34m(self)\u001b[39m\n\u001b[32m    106\u001b[39m \u001b[38;5;28;01mdef\u001b[39;00m\u001b[38;5;250m \u001b[39m\u001b[34mresult\u001b[39m(\u001b[38;5;28mself\u001b[39m):\n\u001b[32m    107\u001b[39m     \u001b[38;5;28;01mtry\u001b[39;00m:\n\u001b[32m    108\u001b[39m         \u001b[38;5;66;03m# Usually the result() method blocks until the transfer is done,\u001b[39;00m\n\u001b[32m    109\u001b[39m         \u001b[38;5;66;03m# however if a KeyboardInterrupt is raised we want want to exit\u001b[39;00m\n\u001b[32m    110\u001b[39m         \u001b[38;5;66;03m# out of this and propagate the exception.\u001b[39;00m\n\u001b[32m--> \u001b[39m\u001b[32m111\u001b[39m         \u001b[38;5;28;01mreturn\u001b[39;00m \u001b[38;5;28;43mself\u001b[39;49m\u001b[43m.\u001b[49m\u001b[43m_coordinator\u001b[49m\u001b[43m.\u001b[49m\u001b[43mresult\u001b[49m\u001b[43m(\u001b[49m\u001b[43m)\u001b[49m\n\u001b[32m    112\u001b[39m     \u001b[38;5;28;01mexcept\u001b[39;00m \u001b[38;5;167;01mKeyboardInterrupt\u001b[39;00m \u001b[38;5;28;01mas\u001b[39;00m e:\n\u001b[32m    113\u001b[39m         \u001b[38;5;28mself\u001b[39m.cancel()\n",
      "\u001b[36mFile \u001b[39m\u001b[32mc:\\Users\\Gugu\\Desktop\\UCL\\Thesis\\Experiments\\IBL_Neuropixels\\ibl_env\\Lib\\site-packages\\s3transfer\\futures.py:267\u001b[39m, in \u001b[36mTransferCoordinator.result\u001b[39m\u001b[34m(self)\u001b[39m\n\u001b[32m    257\u001b[39m \u001b[38;5;250m\u001b[39m\u001b[33;03m\"\"\"Waits until TransferFuture is done and returns the result\u001b[39;00m\n\u001b[32m    258\u001b[39m \n\u001b[32m    259\u001b[39m \u001b[33;03mIf the TransferFuture succeeded, it will return the result. If the\u001b[39;00m\n\u001b[32m    260\u001b[39m \u001b[33;03mTransferFuture failed, it will raise the exception associated to the\u001b[39;00m\n\u001b[32m    261\u001b[39m \u001b[33;03mfailure.\u001b[39;00m\n\u001b[32m    262\u001b[39m \u001b[33;03m\"\"\"\u001b[39;00m\n\u001b[32m    263\u001b[39m \u001b[38;5;66;03m# Doing a wait() with no timeout cannot be interrupted in python2 but\u001b[39;00m\n\u001b[32m    264\u001b[39m \u001b[38;5;66;03m# can be interrupted in python3 so we just wait with the largest\u001b[39;00m\n\u001b[32m    265\u001b[39m \u001b[38;5;66;03m# possible value integer value, which is on the scale of billions of\u001b[39;00m\n\u001b[32m    266\u001b[39m \u001b[38;5;66;03m# years...\u001b[39;00m\n\u001b[32m--> \u001b[39m\u001b[32m267\u001b[39m \u001b[38;5;28;43mself\u001b[39;49m\u001b[43m.\u001b[49m\u001b[43m_done_event\u001b[49m\u001b[43m.\u001b[49m\u001b[43mwait\u001b[49m\u001b[43m(\u001b[49m\u001b[43mMAXINT\u001b[49m\u001b[43m)\u001b[49m\n\u001b[32m    269\u001b[39m \u001b[38;5;66;03m# Once done waiting, raise an exception if present or return the\u001b[39;00m\n\u001b[32m    270\u001b[39m \u001b[38;5;66;03m# final result.\u001b[39;00m\n\u001b[32m    271\u001b[39m \u001b[38;5;28;01mif\u001b[39;00m \u001b[38;5;28mself\u001b[39m._exception:\n",
      "\u001b[36mFile \u001b[39m\u001b[32m~\\AppData\\Local\\Programs\\Python\\Python311\\Lib\\threading.py:622\u001b[39m, in \u001b[36mEvent.wait\u001b[39m\u001b[34m(self, timeout)\u001b[39m\n\u001b[32m    620\u001b[39m signaled = \u001b[38;5;28mself\u001b[39m._flag\n\u001b[32m    621\u001b[39m \u001b[38;5;28;01mif\u001b[39;00m \u001b[38;5;129;01mnot\u001b[39;00m signaled:\n\u001b[32m--> \u001b[39m\u001b[32m622\u001b[39m     signaled = \u001b[38;5;28;43mself\u001b[39;49m\u001b[43m.\u001b[49m\u001b[43m_cond\u001b[49m\u001b[43m.\u001b[49m\u001b[43mwait\u001b[49m\u001b[43m(\u001b[49m\u001b[43mtimeout\u001b[49m\u001b[43m)\u001b[49m\n\u001b[32m    623\u001b[39m \u001b[38;5;28;01mreturn\u001b[39;00m signaled\n",
      "\u001b[36mFile \u001b[39m\u001b[32m~\\AppData\\Local\\Programs\\Python\\Python311\\Lib\\threading.py:320\u001b[39m, in \u001b[36mCondition.wait\u001b[39m\u001b[34m(self, timeout)\u001b[39m\n\u001b[32m    318\u001b[39m \u001b[38;5;28;01mtry\u001b[39;00m:    \u001b[38;5;66;03m# restore state no matter what (e.g., KeyboardInterrupt)\u001b[39;00m\n\u001b[32m    319\u001b[39m     \u001b[38;5;28;01mif\u001b[39;00m timeout \u001b[38;5;129;01mis\u001b[39;00m \u001b[38;5;28;01mNone\u001b[39;00m:\n\u001b[32m--> \u001b[39m\u001b[32m320\u001b[39m         \u001b[43mwaiter\u001b[49m\u001b[43m.\u001b[49m\u001b[43macquire\u001b[49m\u001b[43m(\u001b[49m\u001b[43m)\u001b[49m\n\u001b[32m    321\u001b[39m         gotit = \u001b[38;5;28;01mTrue\u001b[39;00m\n\u001b[32m    322\u001b[39m     \u001b[38;5;28;01melse\u001b[39;00m:\n",
      "\u001b[31mKeyboardInterrupt\u001b[39m: "
     ]
    }
   ],
   "source": [
    "from one.api import ONE\n",
    "import numpy as np\n",
    "import pandas as pd\n",
    "from datetime import datetime\n",
    "import time\n",
    "import gc  # Garbage collection for memory management\n",
    "\n",
    "# Connect to the ONE API\n",
    "one = ONE()\n",
    "assert not one.offline, 'ONE must be connect to Alyx for searching imaging sessions'\n",
    "# Search for mesoscope sessions using the correct query\n",
    "query = 'field_of_view__imaging_type__name,mesoscope'\n",
    "eids = one.search(procedures='Imaging', django=query, query_type='remote')\n",
    "\n",
    "print(f\"Number of mesoscope imaging sessions: {len(eids)}\")\n",
    "\n",
    "# Let's create a list to store session information\n",
    "good_sessions = []\n",
    "\n",
    "# Define a limit to avoid processing all sessions\n",
    "session_limit = len(eids)  # Process all sessions\n",
    "batch_size = 50  # Process this many at a time\n",
    "pause_seconds = 5  # Pause between batches to avoid rate limiting\n",
    "\n",
    "# Process sessions in batches\n",
    "for batch_start in range(0, min(session_limit, len(eids)), batch_size):\n",
    "    batch_end = min(batch_start + batch_size, session_limit)\n",
    "    print(f\"\\nProcessing batch {batch_start//batch_size + 1}, sessions {batch_start+1}-{batch_end}\")\n",
    "    \n",
    "    for i in range(batch_start, batch_end):\n",
    "        eid = eids[i]\n",
    "        print(f\"\\nProcessing session {i+1}/{session_limit} (ID: {eid})\")\n",
    "        \n",
    "        try:\n",
    "            # Get session metadata with full details\n",
    "            session_info = one.get_details(eid, full=True)\n",
    "            task_protocol = session_info.get('task_protocol', '')\n",
    "            \n",
    "            # Check if the session is biasedChoiceWorld or passiveChoiceWorld\n",
    "            if not ('biasedChoiceWorld' in task_protocol or 'passiveChoiceWorld' in task_protocol):\n",
    "                print(\"- Not biasedChoiceWorld or passiveChoiceWorld, skipping\")\n",
    "                continue\n",
    "                \n",
    "            # Get session duration\n",
    "            session_start = session_info.get('start_time')\n",
    "            session_end = session_info.get('end_time')\n",
    "            \n",
    "            duration_hours = None\n",
    "            if session_start and session_end:\n",
    "                try:\n",
    "                    # Parse datetime strings\n",
    "                    start_dt = datetime.fromisoformat(session_start.replace('Z', '+00:00'))\n",
    "                    end_dt = datetime.fromisoformat(session_end.replace('Z', '+00:00'))\n",
    "                    \n",
    "                    # Calculate duration\n",
    "                    duration_seconds = (end_dt - start_dt).total_seconds()\n",
    "                    duration_hours = duration_seconds / 3600\n",
    "                    \n",
    "                    if duration_hours < 1:\n",
    "                        print(f\"- Session too short ({duration_hours:.2f} hours), skipping\")\n",
    "                        continue\n",
    "                    else:\n",
    "                        print(f\"Session duration: {duration_hours:.2f} hours\")\n",
    "                except Exception as e:\n",
    "                    print(f\"- Error parsing session times: {str(e)}, skipping\")\n",
    "                    continue\n",
    "            else:\n",
    "                print(\"- Missing session start or end time, skipping\")\n",
    "                continue\n",
    "        \n",
    "            # List all datasets to identify FOVs\n",
    "            all_datasets = one.list_datasets(eid)\n",
    "            \n",
    "            # Find all FOVs in this session\n",
    "            fov_collections = set()\n",
    "            for dataset in all_datasets:\n",
    "                if 'mpci' in dataset and 'FOV_' in dataset:\n",
    "                    # Extract collection path (e.g., alf/FOV_00)\n",
    "                    parts = dataset.split('/')\n",
    "                    if len(parts) >= 2:  # Make sure we have at least collection/dataset\n",
    "                        collection = '/'.join(parts[:-1])  # Everything except the last part\n",
    "                        fov_collections.add(collection)\n",
    "            \n",
    "            # Sort FOV collections for consistent order\n",
    "            fov_collections = sorted(list(fov_collections))\n",
    "            print(f\"Found {len(fov_collections)} FOV collections: {fov_collections}\")\n",
    "            \n",
    "            # Process each FOV collection\n",
    "            good_fovs = []\n",
    "            \n",
    "            for collection in fov_collections:\n",
    "                try:\n",
    "                    print(f\"Checking FOV collection: {collection}\")\n",
    "                    \n",
    "                    # List all datasets in this FOV\n",
    "                    fov_datasets = one.list_datasets(eid, collection=collection)\n",
    "                    \n",
    "                    # Check if necessary datasets exist\n",
    "                    has_roi_activity = any('mpci.ROIActivityDeconvolved' in ds for ds in fov_datasets)\n",
    "                    has_times = any('mpci.times' in ds for ds in fov_datasets)\n",
    "                    has_bad_frames = any('mpci.badFrames' in ds for ds in fov_datasets)\n",
    "                    has_frame_qc = any('mpci.mpciFrameQC' in ds for ds in fov_datasets)\n",
    "                    \n",
    "                    # Print which datasets are present\n",
    "                    print(f\"Required datasets present: ROIActivity={has_roi_activity}, times={has_times}, badFrames={has_bad_frames}, frameQC={has_frame_qc}\")\n",
    "                    \n",
    "                    if not (has_roi_activity and has_times and has_bad_frames and has_frame_qc):\n",
    "                        print(f\"- Missing required datasets, skipping\")\n",
    "                        continue\n",
    "                    \n",
    "                    # Only load QC data to check for issues (much smaller files)\n",
    "                    bad_frames = one.load_dataset(eid, 'mpci.badFrames', collection=collection)\n",
    "                    frame_qc = one.load_dataset(eid, 'mpci.mpciFrameQC', collection=collection)\n",
    "                    \n",
    "                    if bad_frames is None or frame_qc is None:\n",
    "                        print(f\"- Could not load QC datasets, skipping\")\n",
    "                        continue\n",
    "                    \n",
    "                    # Check if there are any bad frames\n",
    "                    bad_frame_count = np.sum(bad_frames)\n",
    "                    qc_issue_count = np.sum(frame_qc)\n",
    "                    \n",
    "                    # Allow up to 5% bad frames\n",
    "                    total_frames = len(bad_frames)\n",
    "                    bad_frame_percentage = (bad_frame_count / total_frames) * 100 if total_frames > 0 else 0\n",
    "                    qc_issue_percentage = (qc_issue_count / total_frames) * 100 if total_frames > 0 else 0\n",
    "                    \n",
    "                    max_allowed_percentage = 5\n",
    "                    \n",
    "                    if bad_frame_percentage > max_allowed_percentage or qc_issue_percentage > max_allowed_percentage:\n",
    "                        print(f\"- {collection} has too many QC issues: {bad_frame_percentage:.1f}% bad frames, {qc_issue_percentage:.1f}% QC issues\")\n",
    "                        continue\n",
    "                    \n",
    "                    # For ROI count, we'll use a less data-intensive approach\n",
    "                    # Just load the ROI Activity shape to get the count\n",
    "                    try:\n",
    "                        # This will only load the array metadata, not the full array\n",
    "                        roi_activity = one.load_dataset(eid, 'mpci.ROIActivityDeconvolved', collection=collection)\n",
    "                        roi_count = roi_activity.shape[1]  # Number of columns = number of ROIs\n",
    "                        print(f\"Found {roi_count} ROIs in activity matrix\")\n",
    "                        \n",
    "                        # If there are too few ROIs, skip this FOV\n",
    "                        if roi_count < 50:  # Adjust this threshold as needed\n",
    "                            print(f\"- Too few ROIs ({roi_count}), skipping\")\n",
    "                            continue\n",
    "                        \n",
    "                    except Exception as e:\n",
    "                        print(f\"- Error getting ROI count: {str(e)}\")\n",
    "                        continue\n",
    "                    \n",
    "                    # This FOV passed all checks\n",
    "                    good_fovs.append({\n",
    "                        'collection': collection,\n",
    "                        'roi_count': roi_count,\n",
    "                        'frame_count': total_frames,\n",
    "                        'bad_frame_percentage': bad_frame_percentage,\n",
    "                        'qc_issue_percentage': qc_issue_percentage\n",
    "                    })\n",
    "                    \n",
    "                    print(f\"+ Good FOV! {collection}: {roi_count} ROIs, {total_frames} frames\")\n",
    "                    \n",
    "                    # Clean up to free memory\n",
    "                    del bad_frames, frame_qc, roi_activity\n",
    "                    gc.collect()\n",
    "                    \n",
    "                except Exception as e:\n",
    "                    print(f\"- Error processing FOV {collection}: {str(e)}\")\n",
    "            \n",
    "            # Only add session if it has at least one good FOV\n",
    "            if good_fovs:\n",
    "                subject = session_info.get('subject', 'unknown')\n",
    "                date = session_info.get('start_time', 'unknown')\n",
    "                \n",
    "                # Add session to good sessions list\n",
    "                good_sessions.append({\n",
    "                    'eid': eid,\n",
    "                    'subject': subject,\n",
    "                    'date': date,\n",
    "                    'duration_hours': duration_hours if duration_hours else 0,\n",
    "                    'task_protocol': task_protocol,\n",
    "                    'fov_count': len(good_fovs),\n",
    "                    'total_rois': sum(fov['roi_count'] for fov in good_fovs),\n",
    "                    'fovs': good_fovs\n",
    "                })\n",
    "                \n",
    "                print(f\"+ Good session! {subject}, {duration_hours:.2f} hours, {len(good_fovs)} good FOVs, {sum(fov['roi_count'] for fov in good_fovs)} total ROIs\")\n",
    "            else:\n",
    "                print(\"- No good FOVs found in this session\")\n",
    "                \n",
    "        except Exception as e:\n",
    "            print(f\"- Error processing session: {str(e)}\")\n",
    "        \n",
    "        # Clean up to free memory\n",
    "        gc.collect()\n",
    "        \n",
    "        if len(good_sessions) >= 10:  # Stop once we have found enough good sessions\n",
    "            print(\"Found 10 good sessions, stopping search\")\n",
    "            break\n",
    "    \n",
    "    # Save progress after each batch\n",
    "    if good_sessions:\n",
    "        print(f\"\\nSaving progress after batch: {len(good_sessions)} good sessions found so far\")\n",
    "        # Save to CSV\n",
    "        sessions_df = pd.DataFrame([{\n",
    "            'eid': s['eid'],\n",
    "            'subject': s['subject'],\n",
    "            'date': s['date'],\n",
    "            'duration_hours': s['duration_hours'],\n",
    "            'task_protocol': s['task_protocol'],\n",
    "            'good_fov_count': s['fov_count'],\n",
    "            'total_rois': s['total_rois']\n",
    "        } for s in good_sessions])\n",
    "        \n",
    "        sessions_df.to_csv('good_mesoscope_sessions.csv', index=False)\n",
    "    \n",
    "    # Pause between batches to avoid rate limiting\n",
    "    if batch_end < session_limit and batch_end < len(eids):\n",
    "        print(f\"Pausing for {pause_seconds} seconds before next batch...\")\n",
    "        time.sleep(pause_seconds)\n",
    "    \n",
    "    # Break the outer loop too if we've found enough sessions\n",
    "    if len(good_sessions) >= 10:\n",
    "        break\n",
    "\n",
    "# Create a DataFrame of good sessions\n",
    "if good_sessions:\n",
    "    # Create main sessions dataframe\n",
    "    sessions_df = pd.DataFrame([{\n",
    "        'eid': s['eid'],\n",
    "        'subject': s['subject'],\n",
    "        'date': s['date'],\n",
    "        'duration_hours': s['duration_hours'],\n",
    "        'task_protocol': s['task_protocol'],\n",
    "        'good_fov_count': s['fov_count'],\n",
    "        'total_rois': s['total_rois']\n",
    "    } for s in good_sessions])\n",
    "    \n",
    "    print(\"\\nGood sessions found:\")\n",
    "    print(sessions_df)\n",
    "    \n",
    "    # Create FOVs dataframe for the first session\n",
    "    if good_sessions and 'fovs' in good_sessions[0]:\n",
    "        first_session_fovs = pd.DataFrame(good_sessions[0]['fovs'])\n",
    "        print(f\"\\nFOVs in first good session ({good_sessions[0]['eid']}):\")\n",
    "        print(first_session_fovs)\n",
    "    \n",
    "    # Save the final results\n",
    "    sessions_df.to_csv('good_mesoscope_sessions_final.csv', index=False)\n",
    "   \n",
    "else:\n",
    "    print(\"No good sessions found. Consider relaxing the criteria.\")"
   ]
  },
  {
   "cell_type": "code",
   "execution_count": 3,
   "id": "2686f727",
   "metadata": {},
   "outputs": [
    {
     "data": {
      "text/plain": [
       "<one.webclient._PaginatedResponse at 0x1052a8eef50>"
      ]
     },
     "execution_count": 3,
     "metadata": {},
     "output_type": "execute_result"
    }
   ],
   "source": [
    "FOVs = one.alyx.rest('fields-of-view', 'list', imaging_type='mesoscope' ) #, atlas_acronym='*')\n",
    "FOVs"
   ]
  },
  {
   "cell_type": "code",
   "execution_count": 4,
   "id": "86611028",
   "metadata": {},
   "outputs": [
    {
     "name": "stdout",
     "output_type": "stream",
     "text": [
      "{'id': '44fc4626-23b7-4b9c-8d02-3183db9ff305', 'imaging_type': 'mesoscope', 'location': [{'id': '3fae99ae-4c9e-4336-b5d8-c8174e8a0394', 'brain_region': [558, 981, 873], 'coordinate_system': 'IBL-Allen', 'provenance': 'E', 'x': [4589.930370338333, 4672.17497755925, 4224.141273072956, 4285.824728488641], 'y': [-687.3665579357845, -1367.3115498075197, -595.7573752147621, -1278.8656212103792], 'z': [-2404.498088065678, -2216.6800025770453, -1778.5020061386715, -1612.2994904965633], 'n_xyz': [512, 512, 1], 'default_provenance': True, 'auto_datetime': '2025-04-10T03:53:27.544000'}], 'name': 'FOV_00', 'session': '61f260e7-b5d3-4865-a577-bcfc53fda8a8', 'stack': None, 'datasets': []}\n"
     ]
    }
   ],
   "source": [
    "eids = one.search(procedures='Imaging', django=query, query_type='remote', atlas_acronym='VISp1')\n",
    "det = one.get_details(eids[0], full=True)\n",
    "FOVs = det['field_of_view']\n",
    "print(FOVs[0])"
   ]
  },
  {
   "cell_type": "code",
   "execution_count": 9,
   "id": "9c9a9add",
   "metadata": {},
   "outputs": [
    {
     "ename": "HTTPError",
     "evalue": "[Errno 404] /sessions/009aad6f-1881-46ca-b763-bc4ec8972692: 'No Session matches the given query.'",
     "output_type": "error",
     "traceback": [
      "\u001b[31m---------------------------------------------------------------------------\u001b[39m",
      "\u001b[31mHTTPError\u001b[39m                                 Traceback (most recent call last)",
      "\u001b[36mCell\u001b[39m\u001b[36m \u001b[39m\u001b[32mIn[9]\u001b[39m\u001b[32m, line 4\u001b[39m\n\u001b[32m      1\u001b[39m one = ONE()\n\u001b[32m      2\u001b[39m eid = \u001b[33m'\u001b[39m\u001b[33m009aad6f-1881-46ca-b763-bc4ec8972692\u001b[39m\u001b[33m'\u001b[39m\n\u001b[32m----> \u001b[39m\u001b[32m4\u001b[39m fov_folders = \u001b[43mone\u001b[49m\u001b[43m.\u001b[49m\u001b[43mlist_collections\u001b[49m\u001b[43m(\u001b[49m\u001b[43meid\u001b[49m\u001b[43m,\u001b[49m\u001b[43m \u001b[49m\u001b[43mcollection\u001b[49m\u001b[43m=\u001b[49m\u001b[33;43m'\u001b[39;49m\u001b[33;43malf/FOV_*\u001b[39;49m\u001b[33;43m'\u001b[39;49m\u001b[43m)\u001b[49m\n\u001b[32m      5\u001b[39m fovs = \u001b[38;5;28msorted\u001b[39m(\u001b[38;5;28mmap\u001b[39m(\u001b[38;5;28;01mlambda\u001b[39;00m x: \u001b[38;5;28mint\u001b[39m(x[-\u001b[32m2\u001b[39m:]), fov_folders))\n\u001b[32m      6\u001b[39m nFOV = \u001b[38;5;28mlen\u001b[39m(fovs)\n",
      "\u001b[36mFile \u001b[39m\u001b[32mc:\\Users\\Gugu\\Desktop\\UCL\\Thesis\\Experiments\\IBL_Neuropixels\\ibl_env\\Lib\\site-packages\\one\\api.py:895\u001b[39m, in \u001b[36mOne.list_collections\u001b[39m\u001b[34m(self, eid, filename, collection, revision, details, query_type)\u001b[39m\n\u001b[32m    838\u001b[39m \u001b[38;5;250m\u001b[39m\u001b[33;03m\"\"\"List the collections for a given experiment.\u001b[39;00m\n\u001b[32m    839\u001b[39m \n\u001b[32m    840\u001b[39m \u001b[33;03mIf no experiment ID is given, all collections are returned.\u001b[39;00m\n\u001b[32m   (...)\u001b[39m\u001b[32m    891\u001b[39m \n\u001b[32m    892\u001b[39m \u001b[33;03m\"\"\"\u001b[39;00m\n\u001b[32m    893\u001b[39m filter_kwargs = \u001b[38;5;28mdict\u001b[39m(eid=eid, collection=collection, filename=filename,\n\u001b[32m    894\u001b[39m                      revision=revision, query_type=query_type)\n\u001b[32m--> \u001b[39m\u001b[32m895\u001b[39m datasets = \u001b[38;5;28;43mself\u001b[39;49m\u001b[43m.\u001b[49m\u001b[43mlist_datasets\u001b[49m\u001b[43m(\u001b[49m\u001b[43mdetails\u001b[49m\u001b[43m=\u001b[49m\u001b[38;5;28;43;01mTrue\u001b[39;49;00m\u001b[43m,\u001b[49m\u001b[43m \u001b[49m\u001b[43m*\u001b[49m\u001b[43m*\u001b[49m\u001b[43mfilter_kwargs\u001b[49m\u001b[43m)\u001b[49m.copy()\n\u001b[32m    897\u001b[39m datasets[\u001b[33m'\u001b[39m\u001b[33mcollection\u001b[39m\u001b[33m'\u001b[39m] = datasets.rel_path.apply(\n\u001b[32m    898\u001b[39m     \u001b[38;5;28;01mlambda\u001b[39;00m x: alfiles.rel_path_parts(x, assert_valid=\u001b[38;5;28;01mFalse\u001b[39;00m)[\u001b[32m0\u001b[39m] \u001b[38;5;129;01mor\u001b[39;00m \u001b[33m'\u001b[39m\u001b[33m'\u001b[39m\n\u001b[32m    899\u001b[39m )\n\u001b[32m    900\u001b[39m \u001b[38;5;28;01mif\u001b[39;00m details:\n",
      "\u001b[36mFile \u001b[39m\u001b[32mc:\\Users\\Gugu\\Desktop\\UCL\\Thesis\\Experiments\\IBL_Neuropixels\\ibl_env\\Lib\\site-packages\\one\\api.py:1852\u001b[39m, in \u001b[36mOneAlyx.list_datasets\u001b[39m\u001b[34m(self, eid, filename, collection, revision, qc, ignore_qc_not_set, details, query_type, default_revisions_only, keep_eid_index)\u001b[39m\n\u001b[32m   1850\u001b[39m \u001b[38;5;28;01mif\u001b[39;00m \u001b[38;5;129;01mnot\u001b[39;00m eid:\n\u001b[32m   1851\u001b[39m     \u001b[38;5;28;01mreturn\u001b[39;00m \u001b[38;5;28mself\u001b[39m._cache[\u001b[33m'\u001b[39m\u001b[33mdatasets\u001b[39m\u001b[33m'\u001b[39m].iloc[\u001b[32m0\u001b[39m:\u001b[32m0\u001b[39m] \u001b[38;5;28;01mif\u001b[39;00m details \u001b[38;5;28;01melse\u001b[39;00m []  \u001b[38;5;66;03m# Return empty\u001b[39;00m\n\u001b[32m-> \u001b[39m\u001b[32m1852\u001b[39m session, datasets = ses2records(\u001b[38;5;28;43mself\u001b[39;49m\u001b[43m.\u001b[49m\u001b[43malyx\u001b[49m\u001b[43m.\u001b[49m\u001b[43mrest\u001b[49m\u001b[43m(\u001b[49m\u001b[33;43m'\u001b[39;49m\u001b[33;43msessions\u001b[39;49m\u001b[33;43m'\u001b[39;49m\u001b[43m,\u001b[49m\u001b[43m \u001b[49m\u001b[33;43m'\u001b[39;49m\u001b[33;43mread\u001b[39;49m\u001b[33;43m'\u001b[39;49m\u001b[43m,\u001b[49m\u001b[43m \u001b[49m\u001b[38;5;28;43mid\u001b[39;49m\u001b[43m=\u001b[49m\u001b[43meid\u001b[49m\u001b[43m)\u001b[49m)\n\u001b[32m   1853\u001b[39m \u001b[38;5;66;03m# Add to cache tables\u001b[39;00m\n\u001b[32m   1854\u001b[39m merge_tables(\u001b[38;5;28mself\u001b[39m._cache, sessions=session, datasets=datasets.copy())\n",
      "\u001b[36mFile \u001b[39m\u001b[32mc:\\Users\\Gugu\\Desktop\\UCL\\Thesis\\Experiments\\IBL_Neuropixels\\ibl_env\\Lib\\site-packages\\one\\webclient.py:1174\u001b[39m, in \u001b[36mAlyxClient.rest\u001b[39m\u001b[34m(self, url, action, id, data, files, no_cache, **kwargs)\u001b[39m\n\u001b[32m   1172\u001b[39m \u001b[38;5;28;01mif\u001b[39;00m action == \u001b[33m'\u001b[39m\u001b[33mread\u001b[39m\u001b[33m'\u001b[39m:\n\u001b[32m   1173\u001b[39m     \u001b[38;5;28;01massert\u001b[39;00m endpoint_scheme[action][\u001b[33m'\u001b[39m\u001b[33maction\u001b[39m\u001b[33m'\u001b[39m] == \u001b[33m'\u001b[39m\u001b[33mget\u001b[39m\u001b[33m'\u001b[39m\n\u001b[32m-> \u001b[39m\u001b[32m1174\u001b[39m     \u001b[38;5;28;01mreturn\u001b[39;00m \u001b[38;5;28;43mself\u001b[39;49m\u001b[43m.\u001b[49m\u001b[43mget\u001b[49m\u001b[43m(\u001b[49m\u001b[33;43m'\u001b[39;49m\u001b[33;43m/\u001b[39;49m\u001b[33;43m'\u001b[39;49m\u001b[43m \u001b[49m\u001b[43m+\u001b[49m\u001b[43m \u001b[49m\u001b[43mendpoint\u001b[49m\u001b[43m \u001b[49m\u001b[43m+\u001b[49m\u001b[43m \u001b[49m\u001b[33;43m'\u001b[39;49m\u001b[33;43m/\u001b[39;49m\u001b[33;43m'\u001b[39;49m\u001b[43m \u001b[49m\u001b[43m+\u001b[49m\u001b[43m \u001b[49m\u001b[38;5;28;43mid\u001b[39;49m\u001b[43m.\u001b[49m\u001b[43msplit\u001b[49m\u001b[43m(\u001b[49m\u001b[33;43m'\u001b[39;49m\u001b[33;43m/\u001b[39;49m\u001b[33;43m'\u001b[39;49m\u001b[43m)\u001b[49m\u001b[43m[\u001b[49m\u001b[43m-\u001b[49m\u001b[32;43m1\u001b[39;49m\u001b[43m]\u001b[49m\u001b[43m,\u001b[49m\u001b[43m \u001b[49m\u001b[43m*\u001b[49m\u001b[43m*\u001b[49m\u001b[43mcache_args\u001b[49m\u001b[43m)\u001b[49m\n\u001b[32m   1175\u001b[39m \u001b[38;5;28;01melif\u001b[39;00m action == \u001b[33m'\u001b[39m\u001b[33mcreate\u001b[39m\u001b[33m'\u001b[39m:\n\u001b[32m   1176\u001b[39m     \u001b[38;5;28;01massert\u001b[39;00m endpoint_scheme[action][\u001b[33m'\u001b[39m\u001b[33maction\u001b[39m\u001b[33m'\u001b[39m] == \u001b[33m'\u001b[39m\u001b[33mpost\u001b[39m\u001b[33m'\u001b[39m\n",
      "\u001b[36mFile \u001b[39m\u001b[32mc:\\Users\\Gugu\\Desktop\\UCL\\Thesis\\Experiments\\IBL_Neuropixels\\ibl_env\\Lib\\site-packages\\one\\webclient.py:981\u001b[39m, in \u001b[36mAlyxClient.get\u001b[39m\u001b[34m(self, rest_query, **kwargs)\u001b[39m\n\u001b[32m    961\u001b[39m \u001b[38;5;28;01mdef\u001b[39;00m\u001b[38;5;250m \u001b[39m\u001b[34mget\u001b[39m(\u001b[38;5;28mself\u001b[39m, rest_query, **kwargs):\n\u001b[32m    962\u001b[39m \u001b[38;5;250m    \u001b[39m\u001b[33;03m\"\"\"Send a GET request to the Alyx server.\u001b[39;00m\n\u001b[32m    963\u001b[39m \n\u001b[32m    964\u001b[39m \u001b[33;03m    Will raise an exception on any HTTP status code other than 200, 201.\u001b[39;00m\n\u001b[32m   (...)\u001b[39m\u001b[32m    979\u001b[39m \n\u001b[32m    980\u001b[39m \u001b[33;03m    \"\"\"\u001b[39;00m\n\u001b[32m--> \u001b[39m\u001b[32m981\u001b[39m     rep = \u001b[38;5;28;43mself\u001b[39;49m\u001b[43m.\u001b[49m\u001b[43m_generic_request\u001b[49m\u001b[43m(\u001b[49m\u001b[43mrequests\u001b[49m\u001b[43m.\u001b[49m\u001b[43mget\u001b[49m\u001b[43m,\u001b[49m\u001b[43m \u001b[49m\u001b[43mrest_query\u001b[49m\u001b[43m,\u001b[49m\u001b[43m \u001b[49m\u001b[43m*\u001b[49m\u001b[43m*\u001b[49m\u001b[43mkwargs\u001b[49m\u001b[43m)\u001b[49m\n\u001b[32m    982\u001b[39m     \u001b[38;5;28;01mif\u001b[39;00m \u001b[38;5;28misinstance\u001b[39m(rep, \u001b[38;5;28mdict\u001b[39m) \u001b[38;5;129;01mand\u001b[39;00m \u001b[38;5;28mlist\u001b[39m(rep.keys()) == [\u001b[33m'\u001b[39m\u001b[33mcount\u001b[39m\u001b[33m'\u001b[39m, \u001b[33m'\u001b[39m\u001b[33mnext\u001b[39m\u001b[33m'\u001b[39m, \u001b[33m'\u001b[39m\u001b[33mprevious\u001b[39m\u001b[33m'\u001b[39m, \u001b[33m'\u001b[39m\u001b[33mresults\u001b[39m\u001b[33m'\u001b[39m]:\n\u001b[32m    983\u001b[39m         \u001b[38;5;28;01mif\u001b[39;00m \u001b[38;5;28mlen\u001b[39m(rep[\u001b[33m'\u001b[39m\u001b[33mresults\u001b[39m\u001b[33m'\u001b[39m]) < rep[\u001b[33m'\u001b[39m\u001b[33mcount\u001b[39m\u001b[33m'\u001b[39m]:\n",
      "\u001b[36mFile \u001b[39m\u001b[32mc:\\Users\\Gugu\\Desktop\\UCL\\Thesis\\Experiments\\IBL_Neuropixels\\ibl_env\\Lib\\site-packages\\one\\webclient.py:141\u001b[39m, in \u001b[36m_cache_response.<locals>.wrapper_decorator\u001b[39m\u001b[34m(alyx_client, expires, clobber, *args, **kwargs)\u001b[39m\n\u001b[32m    139\u001b[39m         \u001b[38;5;28;01mreturn\u001b[39;00m cached\n\u001b[32m    140\u001b[39m \u001b[38;5;28;01mtry\u001b[39;00m:\n\u001b[32m--> \u001b[39m\u001b[32m141\u001b[39m     response = \u001b[43mmethod\u001b[49m\u001b[43m(\u001b[49m\u001b[43malyx_client\u001b[49m\u001b[43m,\u001b[49m\u001b[43m \u001b[49m\u001b[43m*\u001b[49m\u001b[43margs\u001b[49m\u001b[43m,\u001b[49m\u001b[43m \u001b[49m\u001b[43m*\u001b[49m\u001b[43m*\u001b[49m\u001b[43mkwargs\u001b[49m\u001b[43m)\u001b[49m\n\u001b[32m    142\u001b[39m \u001b[38;5;28;01mexcept\u001b[39;00m requests.exceptions.ConnectionError \u001b[38;5;28;01mas\u001b[39;00m ex:\n\u001b[32m    143\u001b[39m     \u001b[38;5;28;01mif\u001b[39;00m cached \u001b[38;5;129;01mand\u001b[39;00m \u001b[38;5;129;01mnot\u001b[39;00m clobber:\n",
      "\u001b[36mFile \u001b[39m\u001b[32mc:\\Users\\Gugu\\Desktop\\UCL\\Thesis\\Experiments\\IBL_Neuropixels\\ibl_env\\Lib\\site-packages\\one\\webclient.py:692\u001b[39m, in \u001b[36mAlyxClient._generic_request\u001b[39m\u001b[34m(self, reqfunction, rest_query, data, files)\u001b[39m\n\u001b[32m    690\u001b[39m \u001b[38;5;28;01mexcept\u001b[39;00m json.decoder.JSONDecodeError:\n\u001b[32m    691\u001b[39m     message = r.text\n\u001b[32m--> \u001b[39m\u001b[32m692\u001b[39m \u001b[38;5;28;01mraise\u001b[39;00m requests.HTTPError(r.status_code, rest_query, message, response=r)\n",
      "\u001b[31mHTTPError\u001b[39m: [Errno 404] /sessions/009aad6f-1881-46ca-b763-bc4ec8972692: 'No Session matches the given query.'"
     ]
    }
   ],
   "source": [
    "one = ONE()\n",
    "eid = '009aad6f-1881-46ca-b763-bc4ec8972692'\n",
    "\n",
    "fov_folders = one.list_collections(eid, collection='alf/FOV_*')\n",
    "fovs = sorted(map(lambda x: int(x[-2:]), fov_folders))\n",
    "nFOV = len(fovs)"
   ]
  },
  {
   "cell_type": "code",
   "execution_count": 10,
   "id": "397653ac",
   "metadata": {},
   "outputs": [
    {
     "ename": "HTTPError",
     "evalue": "[Errno 404] /sessions/009aad6f-1881-46ca-b763-bc4ec8972692: 'No Session matches the given query.'",
     "output_type": "error",
     "traceback": [
      "\u001b[31m---------------------------------------------------------------------------\u001b[39m",
      "\u001b[31mHTTPError\u001b[39m                                 Traceback (most recent call last)",
      "\u001b[36mCell\u001b[39m\u001b[36m \u001b[39m\u001b[32mIn[10]\u001b[39m\u001b[32m, line 5\u001b[39m\n\u001b[32m      2\u001b[39m one = ONE()\n\u001b[32m      3\u001b[39m eid = \u001b[33m'\u001b[39m\u001b[33m009aad6f-1881-46ca-b763-bc4ec8972692\u001b[39m\u001b[33m'\u001b[39m\n\u001b[32m----> \u001b[39m\u001b[32m5\u001b[39m fov_folders = \u001b[43mone\u001b[49m\u001b[43m.\u001b[49m\u001b[43mlist_collections\u001b[49m\u001b[43m(\u001b[49m\u001b[43meid\u001b[49m\u001b[43m,\u001b[49m\u001b[43m \u001b[49m\u001b[43mcollection\u001b[49m\u001b[43m=\u001b[49m\u001b[33;43m'\u001b[39;49m\u001b[33;43malf/FOV_*\u001b[39;49m\u001b[33;43m'\u001b[39;49m\u001b[43m)\u001b[49m\n\u001b[32m      6\u001b[39m fovs = \u001b[38;5;28msorted\u001b[39m(\u001b[38;5;28mmap\u001b[39m(\u001b[38;5;28;01mlambda\u001b[39;00m x: \u001b[38;5;28mint\u001b[39m(x[-\u001b[32m2\u001b[39m:]), fov_folders))\n\u001b[32m      7\u001b[39m nFOV = \u001b[38;5;28mlen\u001b[39m(fovs)\n",
      "\u001b[36mFile \u001b[39m\u001b[32mc:\\Users\\Gugu\\Desktop\\UCL\\Thesis\\Experiments\\IBL_Neuropixels\\ibl_env\\Lib\\site-packages\\one\\api.py:895\u001b[39m, in \u001b[36mOne.list_collections\u001b[39m\u001b[34m(self, eid, filename, collection, revision, details, query_type)\u001b[39m\n\u001b[32m    838\u001b[39m \u001b[38;5;250m\u001b[39m\u001b[33;03m\"\"\"List the collections for a given experiment.\u001b[39;00m\n\u001b[32m    839\u001b[39m \n\u001b[32m    840\u001b[39m \u001b[33;03mIf no experiment ID is given, all collections are returned.\u001b[39;00m\n\u001b[32m   (...)\u001b[39m\u001b[32m    891\u001b[39m \n\u001b[32m    892\u001b[39m \u001b[33;03m\"\"\"\u001b[39;00m\n\u001b[32m    893\u001b[39m filter_kwargs = \u001b[38;5;28mdict\u001b[39m(eid=eid, collection=collection, filename=filename,\n\u001b[32m    894\u001b[39m                      revision=revision, query_type=query_type)\n\u001b[32m--> \u001b[39m\u001b[32m895\u001b[39m datasets = \u001b[38;5;28;43mself\u001b[39;49m\u001b[43m.\u001b[49m\u001b[43mlist_datasets\u001b[49m\u001b[43m(\u001b[49m\u001b[43mdetails\u001b[49m\u001b[43m=\u001b[49m\u001b[38;5;28;43;01mTrue\u001b[39;49;00m\u001b[43m,\u001b[49m\u001b[43m \u001b[49m\u001b[43m*\u001b[49m\u001b[43m*\u001b[49m\u001b[43mfilter_kwargs\u001b[49m\u001b[43m)\u001b[49m.copy()\n\u001b[32m    897\u001b[39m datasets[\u001b[33m'\u001b[39m\u001b[33mcollection\u001b[39m\u001b[33m'\u001b[39m] = datasets.rel_path.apply(\n\u001b[32m    898\u001b[39m     \u001b[38;5;28;01mlambda\u001b[39;00m x: alfiles.rel_path_parts(x, assert_valid=\u001b[38;5;28;01mFalse\u001b[39;00m)[\u001b[32m0\u001b[39m] \u001b[38;5;129;01mor\u001b[39;00m \u001b[33m'\u001b[39m\u001b[33m'\u001b[39m\n\u001b[32m    899\u001b[39m )\n\u001b[32m    900\u001b[39m \u001b[38;5;28;01mif\u001b[39;00m details:\n",
      "\u001b[36mFile \u001b[39m\u001b[32mc:\\Users\\Gugu\\Desktop\\UCL\\Thesis\\Experiments\\IBL_Neuropixels\\ibl_env\\Lib\\site-packages\\one\\api.py:1852\u001b[39m, in \u001b[36mOneAlyx.list_datasets\u001b[39m\u001b[34m(self, eid, filename, collection, revision, qc, ignore_qc_not_set, details, query_type, default_revisions_only, keep_eid_index)\u001b[39m\n\u001b[32m   1850\u001b[39m \u001b[38;5;28;01mif\u001b[39;00m \u001b[38;5;129;01mnot\u001b[39;00m eid:\n\u001b[32m   1851\u001b[39m     \u001b[38;5;28;01mreturn\u001b[39;00m \u001b[38;5;28mself\u001b[39m._cache[\u001b[33m'\u001b[39m\u001b[33mdatasets\u001b[39m\u001b[33m'\u001b[39m].iloc[\u001b[32m0\u001b[39m:\u001b[32m0\u001b[39m] \u001b[38;5;28;01mif\u001b[39;00m details \u001b[38;5;28;01melse\u001b[39;00m []  \u001b[38;5;66;03m# Return empty\u001b[39;00m\n\u001b[32m-> \u001b[39m\u001b[32m1852\u001b[39m session, datasets = ses2records(\u001b[38;5;28;43mself\u001b[39;49m\u001b[43m.\u001b[49m\u001b[43malyx\u001b[49m\u001b[43m.\u001b[49m\u001b[43mrest\u001b[49m\u001b[43m(\u001b[49m\u001b[33;43m'\u001b[39;49m\u001b[33;43msessions\u001b[39;49m\u001b[33;43m'\u001b[39;49m\u001b[43m,\u001b[49m\u001b[43m \u001b[49m\u001b[33;43m'\u001b[39;49m\u001b[33;43mread\u001b[39;49m\u001b[33;43m'\u001b[39;49m\u001b[43m,\u001b[49m\u001b[43m \u001b[49m\u001b[38;5;28;43mid\u001b[39;49m\u001b[43m=\u001b[49m\u001b[43meid\u001b[49m\u001b[43m)\u001b[49m)\n\u001b[32m   1853\u001b[39m \u001b[38;5;66;03m# Add to cache tables\u001b[39;00m\n\u001b[32m   1854\u001b[39m merge_tables(\u001b[38;5;28mself\u001b[39m._cache, sessions=session, datasets=datasets.copy())\n",
      "\u001b[36mFile \u001b[39m\u001b[32mc:\\Users\\Gugu\\Desktop\\UCL\\Thesis\\Experiments\\IBL_Neuropixels\\ibl_env\\Lib\\site-packages\\one\\webclient.py:1174\u001b[39m, in \u001b[36mAlyxClient.rest\u001b[39m\u001b[34m(self, url, action, id, data, files, no_cache, **kwargs)\u001b[39m\n\u001b[32m   1172\u001b[39m \u001b[38;5;28;01mif\u001b[39;00m action == \u001b[33m'\u001b[39m\u001b[33mread\u001b[39m\u001b[33m'\u001b[39m:\n\u001b[32m   1173\u001b[39m     \u001b[38;5;28;01massert\u001b[39;00m endpoint_scheme[action][\u001b[33m'\u001b[39m\u001b[33maction\u001b[39m\u001b[33m'\u001b[39m] == \u001b[33m'\u001b[39m\u001b[33mget\u001b[39m\u001b[33m'\u001b[39m\n\u001b[32m-> \u001b[39m\u001b[32m1174\u001b[39m     \u001b[38;5;28;01mreturn\u001b[39;00m \u001b[38;5;28;43mself\u001b[39;49m\u001b[43m.\u001b[49m\u001b[43mget\u001b[49m\u001b[43m(\u001b[49m\u001b[33;43m'\u001b[39;49m\u001b[33;43m/\u001b[39;49m\u001b[33;43m'\u001b[39;49m\u001b[43m \u001b[49m\u001b[43m+\u001b[49m\u001b[43m \u001b[49m\u001b[43mendpoint\u001b[49m\u001b[43m \u001b[49m\u001b[43m+\u001b[49m\u001b[43m \u001b[49m\u001b[33;43m'\u001b[39;49m\u001b[33;43m/\u001b[39;49m\u001b[33;43m'\u001b[39;49m\u001b[43m \u001b[49m\u001b[43m+\u001b[49m\u001b[43m \u001b[49m\u001b[38;5;28;43mid\u001b[39;49m\u001b[43m.\u001b[49m\u001b[43msplit\u001b[49m\u001b[43m(\u001b[49m\u001b[33;43m'\u001b[39;49m\u001b[33;43m/\u001b[39;49m\u001b[33;43m'\u001b[39;49m\u001b[43m)\u001b[49m\u001b[43m[\u001b[49m\u001b[43m-\u001b[49m\u001b[32;43m1\u001b[39;49m\u001b[43m]\u001b[49m\u001b[43m,\u001b[49m\u001b[43m \u001b[49m\u001b[43m*\u001b[49m\u001b[43m*\u001b[49m\u001b[43mcache_args\u001b[49m\u001b[43m)\u001b[49m\n\u001b[32m   1175\u001b[39m \u001b[38;5;28;01melif\u001b[39;00m action == \u001b[33m'\u001b[39m\u001b[33mcreate\u001b[39m\u001b[33m'\u001b[39m:\n\u001b[32m   1176\u001b[39m     \u001b[38;5;28;01massert\u001b[39;00m endpoint_scheme[action][\u001b[33m'\u001b[39m\u001b[33maction\u001b[39m\u001b[33m'\u001b[39m] == \u001b[33m'\u001b[39m\u001b[33mpost\u001b[39m\u001b[33m'\u001b[39m\n",
      "\u001b[36mFile \u001b[39m\u001b[32mc:\\Users\\Gugu\\Desktop\\UCL\\Thesis\\Experiments\\IBL_Neuropixels\\ibl_env\\Lib\\site-packages\\one\\webclient.py:981\u001b[39m, in \u001b[36mAlyxClient.get\u001b[39m\u001b[34m(self, rest_query, **kwargs)\u001b[39m\n\u001b[32m    961\u001b[39m \u001b[38;5;28;01mdef\u001b[39;00m\u001b[38;5;250m \u001b[39m\u001b[34mget\u001b[39m(\u001b[38;5;28mself\u001b[39m, rest_query, **kwargs):\n\u001b[32m    962\u001b[39m \u001b[38;5;250m    \u001b[39m\u001b[33;03m\"\"\"Send a GET request to the Alyx server.\u001b[39;00m\n\u001b[32m    963\u001b[39m \n\u001b[32m    964\u001b[39m \u001b[33;03m    Will raise an exception on any HTTP status code other than 200, 201.\u001b[39;00m\n\u001b[32m   (...)\u001b[39m\u001b[32m    979\u001b[39m \n\u001b[32m    980\u001b[39m \u001b[33;03m    \"\"\"\u001b[39;00m\n\u001b[32m--> \u001b[39m\u001b[32m981\u001b[39m     rep = \u001b[38;5;28;43mself\u001b[39;49m\u001b[43m.\u001b[49m\u001b[43m_generic_request\u001b[49m\u001b[43m(\u001b[49m\u001b[43mrequests\u001b[49m\u001b[43m.\u001b[49m\u001b[43mget\u001b[49m\u001b[43m,\u001b[49m\u001b[43m \u001b[49m\u001b[43mrest_query\u001b[49m\u001b[43m,\u001b[49m\u001b[43m \u001b[49m\u001b[43m*\u001b[49m\u001b[43m*\u001b[49m\u001b[43mkwargs\u001b[49m\u001b[43m)\u001b[49m\n\u001b[32m    982\u001b[39m     \u001b[38;5;28;01mif\u001b[39;00m \u001b[38;5;28misinstance\u001b[39m(rep, \u001b[38;5;28mdict\u001b[39m) \u001b[38;5;129;01mand\u001b[39;00m \u001b[38;5;28mlist\u001b[39m(rep.keys()) == [\u001b[33m'\u001b[39m\u001b[33mcount\u001b[39m\u001b[33m'\u001b[39m, \u001b[33m'\u001b[39m\u001b[33mnext\u001b[39m\u001b[33m'\u001b[39m, \u001b[33m'\u001b[39m\u001b[33mprevious\u001b[39m\u001b[33m'\u001b[39m, \u001b[33m'\u001b[39m\u001b[33mresults\u001b[39m\u001b[33m'\u001b[39m]:\n\u001b[32m    983\u001b[39m         \u001b[38;5;28;01mif\u001b[39;00m \u001b[38;5;28mlen\u001b[39m(rep[\u001b[33m'\u001b[39m\u001b[33mresults\u001b[39m\u001b[33m'\u001b[39m]) < rep[\u001b[33m'\u001b[39m\u001b[33mcount\u001b[39m\u001b[33m'\u001b[39m]:\n",
      "\u001b[36mFile \u001b[39m\u001b[32mc:\\Users\\Gugu\\Desktop\\UCL\\Thesis\\Experiments\\IBL_Neuropixels\\ibl_env\\Lib\\site-packages\\one\\webclient.py:141\u001b[39m, in \u001b[36m_cache_response.<locals>.wrapper_decorator\u001b[39m\u001b[34m(alyx_client, expires, clobber, *args, **kwargs)\u001b[39m\n\u001b[32m    139\u001b[39m         \u001b[38;5;28;01mreturn\u001b[39;00m cached\n\u001b[32m    140\u001b[39m \u001b[38;5;28;01mtry\u001b[39;00m:\n\u001b[32m--> \u001b[39m\u001b[32m141\u001b[39m     response = \u001b[43mmethod\u001b[49m\u001b[43m(\u001b[49m\u001b[43malyx_client\u001b[49m\u001b[43m,\u001b[49m\u001b[43m \u001b[49m\u001b[43m*\u001b[49m\u001b[43margs\u001b[49m\u001b[43m,\u001b[49m\u001b[43m \u001b[49m\u001b[43m*\u001b[49m\u001b[43m*\u001b[49m\u001b[43mkwargs\u001b[49m\u001b[43m)\u001b[49m\n\u001b[32m    142\u001b[39m \u001b[38;5;28;01mexcept\u001b[39;00m requests.exceptions.ConnectionError \u001b[38;5;28;01mas\u001b[39;00m ex:\n\u001b[32m    143\u001b[39m     \u001b[38;5;28;01mif\u001b[39;00m cached \u001b[38;5;129;01mand\u001b[39;00m \u001b[38;5;129;01mnot\u001b[39;00m clobber:\n",
      "\u001b[36mFile \u001b[39m\u001b[32mc:\\Users\\Gugu\\Desktop\\UCL\\Thesis\\Experiments\\IBL_Neuropixels\\ibl_env\\Lib\\site-packages\\one\\webclient.py:692\u001b[39m, in \u001b[36mAlyxClient._generic_request\u001b[39m\u001b[34m(self, reqfunction, rest_query, data, files)\u001b[39m\n\u001b[32m    690\u001b[39m \u001b[38;5;28;01mexcept\u001b[39;00m json.decoder.JSONDecodeError:\n\u001b[32m    691\u001b[39m     message = r.text\n\u001b[32m--> \u001b[39m\u001b[32m692\u001b[39m \u001b[38;5;28;01mraise\u001b[39;00m requests.HTTPError(r.status_code, rest_query, message, response=r)\n",
      "\u001b[31mHTTPError\u001b[39m: [Errno 404] /sessions/009aad6f-1881-46ca-b763-bc4ec8972692: 'No Session matches the given query.'"
     ]
    }
   ],
   "source": [
    "from one.api import ONE\n",
    "one = ONE()\n",
    "eid = '009aad6f-1881-46ca-b763-bc4ec8972692'\n",
    "\n",
    "fov_folders = one.list_collections(eid, collection='alf/FOV_*')\n",
    "fovs = sorted(map(lambda x: int(x[-2:]), fov_folders))\n",
    "nFOV = len(fovs)"
   ]
  }
 ],
 "metadata": {
  "kernelspec": {
   "display_name": "ibl_env",
   "language": "python",
   "name": "python3"
  },
  "language_info": {
   "codemirror_mode": {
    "name": "ipython",
    "version": 3
   },
   "file_extension": ".py",
   "mimetype": "text/x-python",
   "name": "python",
   "nbconvert_exporter": "python",
   "pygments_lexer": "ipython3",
   "version": "3.11.4"
  }
 },
 "nbformat": 4,
 "nbformat_minor": 5
}
